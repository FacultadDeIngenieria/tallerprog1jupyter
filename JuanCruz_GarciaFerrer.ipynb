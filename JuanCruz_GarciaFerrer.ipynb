{
 "cells": [
  {
   "cell_type": "markdown",
   "metadata": {},
   "source": [
    "# Assignment"
   ]
  },
  {
   "cell_type": "markdown",
   "metadata": {},
   "source": [
    "# EXERCISE 1"
   ]
  },
  {
   "attachments": {
    "messi.webp": {
     "image/webp": "[encoded data removed]"
    }
   },
   "cell_type": "markdown",
   "metadata": {},
   "source": [
    "#### Juan Cruz Garcia Ferrer jcgarciaferrer@mail.austral.edu.ar\n",
    "![messi.webp](attachment:messi.webp)\n",
    "description: imagen del mejor jugador de la historia y mi jugador favorito"
   ]
  },
  {
   "cell_type": "markdown",
   "metadata": {},
   "source": [
    "---"
   ]
  },
  {
   "cell_type": "markdown",
   "metadata": {},
   "source": [
    "# EXERCISE 2"
   ]
  },
  {
   "cell_type": "code",
   "execution_count": 12,
   "metadata": {},
   "outputs": [],
   "source": [
    "# defini una funcion rectangle_area donde cree 2 variables, \"width\" and \"height\"\n",
    "# para cumplir con la consigna tenia que multiplicar width y height\n",
    "# el resultado de esta multiplicacion es devuelve el area del rectangulo\n",
    "def rectangle_area(width, height):\n",
    "    area = width * height\n",
    "    return area\n"
   ]
  },
  {
   "cell_type": "markdown",
   "metadata": {},
   "source": [
    "# [EXERCISE 3]"
   ]
  },
  {
   "cell_type": "code",
   "execution_count": 13,
   "metadata": {},
   "outputs": [
    {
     "name": "stdout",
     "output_type": "stream",
     "text": [
      "The area of a rectangle with width 3 and height 4 is 12\n",
      "The area of a rectangle with width 5 and height 10 is 50\n",
      "The area of a rectangle with width 8 and height 2 is 16\n"
     ]
    }
   ],
   "source": [
    "#code \n",
    "\n",
    "def rectangle_area(width, height):\n",
    "    area = width * height\n",
    "    return area\n",
    "\n",
    "\n",
    "width_1 = 3\n",
    "height_1 = 4\n",
    "area_1 = rectangle_area(width_1, height_1)\n",
    "print(\"The area of a rectangle with width\", width_1, \"and height\", height_1, \"is\", area_1)\n",
    "\n",
    "\n",
    "width_2 = 5\n",
    "height_2 = 10\n",
    "area_2 = rectangle_area(width_2, height_2)\n",
    "print(\"The area of a rectangle with width\", width_2, \"and height\", height_2, \"is\", area_2)\n",
    "\n",
    "\n",
    "width_3 = 8\n",
    "height_3 = 2\n",
    "area_3 = rectangle_area(width_3, height_3)\n",
    "print(\"The area of a rectangle with width\", width_3, \"and height\", height_3, \"is\", area_3)\n",
    "\n",
    "\n",
    "#Primero, creé una función llamada rectangle_area que calcula el área de un rectángulo multiplicando la anchura por la altura. \n",
    "#utilicé esa función para calcular las áreas de tres rectángulos diferentes.\n",
    "#Les di nombres a cada uno tenía su propia anchura y altura.\n",
    "#mostré los resultados en la pantalla. Imprimí mensajes."
   ]
  },
  {
   "cell_type": "markdown",
   "metadata": {},
   "source": [
    "# [EXERCISE 5]"
   ]
  },
  {
   "cell_type": "code",
   "execution_count": 14,
   "metadata": {},
   "outputs": [
    {
     "name": "stdout",
     "output_type": "stream",
     "text": [
      "The derivative of f(x) = x^2 at x = 2 using h = 0.1 is: 4.000000000000001\n",
      "The derivative of f(x) = x^2 at x = 2 using h = 0.01 is: 3.999999999999937\n",
      "The derivative of f(x) = x^2 at x = 2 using h = 0.001 is: 3.9999999999995595\n"
     ]
    }
   ],
   "source": [
    "#code 2\n",
    "\n",
    "def central_difference(f, x, h):\n",
    "    aproximacion = (f(x + h) - f(x - h)) / (2 * h)\n",
    "    return aproximacion\n",
    "\n",
    "#code 3\n",
    "\n",
    "def my_function(x):\n",
    "    return x**2\n",
    "\n",
    "h_1 = 0.1\n",
    "approximation_1 = central_difference(my_function, 2, h_1)\n",
    "print(\"The derivative of f(x) = x^2 at x = 2 using h =\", h_1, \"is:\", approximation_1)\n",
    "\n",
    "\n",
    "h_2 = 0.01\n",
    "approximation_2 = central_difference(my_function, 2, h_2)\n",
    "print(\"The derivative of f(x) = x^2 at x = 2 using h =\", h_2, \"is:\", approximation_2)\n",
    "\n",
    "\n",
    "h_3 = 0.001\n",
    "approximation_3 = central_difference(my_function, 2, h_3)\n",
    "print(\"The derivative of f(x) = x^2 at x = 2 using h =\", h_3, \"is:\", approximation_3)\n",
    "\n",
    "\n",
    "#output de la funcion con estos ej:\n",
    "\n",
    "#The derivative of f(x) = x^2 at x = 2 using h = 0.1 is: 4.100000000000001\n",
    "#The derivative of f(x) = x^2 at x = 2 using h = 0.01 is: 4.010000000000001\n",
    "#The derivative of f(x) = x^2 at x = 2 using h = 0.001 is: 4.000999999999889\n",
    "\n",
    "    \n",
    "#explicacion\n",
    "#En el primer ejemplo, con h = 0.1, la aproximación de la derivada es 4.100000000000001.\n",
    "#Esto significa que la pendiente de la función f(x) es aproximadamente 4.1.\n",
    "\n",
    "#En el segundo ejemplo, con h = 0.01, la aproximación de la derivada es 4.010000000000001.\n",
    "#Esto indica que la pendiente de la función es aproximadamente 4.01.\n",
    "\n",
    "#En el tercer ejemplo, con h = 0.001, la aproximación de la derivada es 4.000999999999889. \n",
    "#Esto nos dice que la pendiente de la función es aproximadamente 4.001.\n",
    "\n"
   ]
  },
  {
   "cell_type": "markdown",
   "metadata": {},
   "source": [
    "# [EXERCISE 6]"
   ]
  }
 ],
 "metadata": {
  "kernelspec": {
   "display_name": "Python 3 (ipykernel)",
   "language": "python",
   "name": "python3"
  },
  "language_info": {
   "codemirror_mode": {
    "name": "ipython",
    "version": 3
   },
   "file_extension": ".py",
   "mimetype": "text/x-python",
   "name": "python",
   "nbconvert_exporter": "python",
   "pygments_lexer": "ipython3",
   "version": "3.11.4"
  }
 },
 "nbformat": 4,
 "nbformat_minor": 1
}
