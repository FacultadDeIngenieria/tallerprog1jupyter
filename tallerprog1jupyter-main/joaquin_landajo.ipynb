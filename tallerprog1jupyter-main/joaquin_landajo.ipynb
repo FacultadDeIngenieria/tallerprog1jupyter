{
 "cells": [
  {
   "cell_type": "markdown",
   "metadata": {},
   "source": [
    "# Assignment\n",
    "\n",
    "The assignment will require you to complete cells, create new ones, and move around some cells. You need to familiarize yourself with the Jupyter notebook interface. You can find a tutorial [here](https://www.dataquest.io/blog/jupyter-notebook-tutorial/).\n",
    "\n",
    "\n",
    "**MAKE SURE TO MAKE A COPY OF THIS ASSIGNMENT IN YOUR OWN REPOSITORY.** (delete this line in your new copy :) )\n"
   ]
  },
  {
   "cell_type": "markdown",
   "metadata": {},
   "source": [
    "# [EXERCISE 1]\n",
    "## Joaquin Landajo-jlandajo@mail.austral.edu.ar\n",
    "![barco.](https://d7lju56vlbdri.cloudfront.net/var/ezwebin_site/storage/images/_aliases/img_1col/noticias/un-barco-inteligente-viajara-sin-tripulacion-entre-reino-unido-y-ee-uu/8179445-1-esl-MX/Un-barco-inteligente-viajara-sin-tripulacion-entre-Reino-Unido-y-EE-UU.jpg)\n",
    "es un barco parecido a uno que tengo miniatura.\n",
    "\n",
    "A tutorial for markdown titles, bold, italic, etc. can be found [here](https://www.markdownguide.org/basic-syntax/).\n",
    "\n",
    "\n",
    "1. You need to update this cell with a title in markdown saying [EXERCISE 1]. Also, add subtitle with your full name and university email in markdown. Add a picture of your preference beneath the subtitle (IT CAN BE A PICTURE OF YOU, A PICTURE OF YOUR FAVORITE ANIMAL, A PICTURE OF YOUR FAVORITE PLACE, ETC.)\n",
    ". It must be [safe-for-work](https://www.computerhope.com/jargon/s/sfw.htm)\n",
    "2. Add a description of the image as text, all in the same cell.\n",
    "3. REPLACE ANY EXISTING TEXT IN THIS CELL WITH YOUR OWN TEXT. DO NOT KEEP THE EXISTING TEXT WITH THE INSTRUCTIONS. YOU CAN CREATE A NEW CELL IF YOU PREFER, BUT THIS ONE NEEDS TO BE REMOVED. "
   ]
  },
  {
   "cell_type": "markdown",
   "metadata": {},
   "source": [
    "# EXERCISE 2"
   ]
  },
  {
   "cell_type": "code",
   "execution_count": null,
   "metadata": {},
   "outputs": [],
   "source": [
    "# La funcion rectangle_area pide dos valores uno de ancho y otro de altura que son las medidas del rectangulo. Al multiplicar los valores, nos da como resultado el area del rectangulo. Esto se muestra en en un f string con los resultados.\n",
    "def rectangle_area(width, height):\n",
    "    area = width*height\n",
    "    return f\"El area del rectangulo tiene un {width} de ancho y un {height} de alto es igual a{area}\""
   ]
  },
  {
   "cell_type": "markdown",
   "metadata": {},
   "source": [
    "# [EXERCISE 3]"
   ]
  },
  {
   "cell_type": "code",
   "execution_count": null,
   "metadata": {},
   "outputs": [],
   "source": [
    "def rectangle_area(width, height):\n",
    "    area = width*height\n",
    "    return f\"El area del rectangulo tiene un {width} de ancho y un {height} de alto y es igual a {area}\"\n",
    "\n",
    "print(rectangle_area(3, 4)) # RTA: El area del rectangulo tiene un 3 de ancho y un 4 de alto y es igual a 12\n",
    "print(rectangle_area(5, 10)) # RTA: El area del rectangulo tiene un 5 de ancho y un 10 de alto y es igual a 50\n",
    "print(rectangle_area(8, 2)) # RTA: El area del rectangulo tiene un 8 de ancho y un 2 de alto y es igual a 16"
   ]
  },
  {
   "cell_type": "markdown",
   "metadata": {},
   "source": [
    "# [EXERCISE 5]\n",
    "\n",
    "1. CREATE A NEW CELL BELOW THIS ONE AND ADD A MARKDOWN TITLE (HEADING 1) WITH THE TEXT \"[EXERCISE 5]\"\n",
    "2. CREATE A NEW CELL BELOW THE ONE WITH THE MARKDOWN TITLE OF \"[EXERCISE 5]\" TO SOLVE THE FOLLOWING EXERCISE IN PYTHON:\n",
    "\n",
    "    `Write a function central_difference(f, x, h) that approximates the derivative of a function f at a point x using the Central Difference Approximation. The function should take the function f, the point at which the derivative needs to be approximated x, and the step size h as input, and return the approximate value of the derivative.`\n",
    "\n",
    "https://en.wikipedia.org/wiki/Finite_difference\n",
    "\n",
    "3. Create a new cell with examples of the use of the function central_difference(f, x, h) to approximate the derivative of the function f(x) = x^2 at x = 2 using h = 0.1, h = 0.01, and h = 0.001. Show your results in the same cell with a description of each result. Similar to this example:\n",
    "\n",
    "        `The derivative of f(x) = x^2 at x = 2 using h = 0.1 is 4.1.`\n",
    "        \n",
    "4. DO NOT KEEP THE CELL WITH THESE INSTRUCTIONS.\n"
   ]
  },
  {
   "cell_type": "code",
   "execution_count": null,
   "metadata": {},
   "outputs": [],
   "source": [
    "def central_difference(f, x, h):\n",
    "    return (f(x+h)- f(x))/h"
   ]
  },
  {
   "cell_type": "code",
   "execution_count": null,
   "metadata": {},
   "outputs": [],
   "source": [
    "def square(x):\n",
    "    return x**2\n",
    "x = 2\n",
    "h_1 = 0.1\n",
    "h_2 = 0.01\n",
    "h_3 = 0.001\n",
    "print(f\"The derivative of f(x) = x^2 at x {x} using h = {h_1} is {central_difference(square, 2, h_1)}\")\n",
    "print(f\"The derivative of f(x) = x^2 at x {x} using h = {h_2} is {central_difference(square, 2, h_2)}\")\n",
    "print(f\"The derivative of f(x) = x^2 at x {x} using h = {h_3} is {central_difference(square, 2, h_3)}\")"
   ]
  },
  {
   "cell_type": "code",
   "execution_count": null,
   "metadata": {},
   "outputs": [],
   "source": []
  }
 ],
 "metadata": {
  "kernelspec": {
   "display_name": "Python 3 (ipykernel)",
   "language": "python",
   "name": "python3"
  },
  "language_info": {
   "codemirror_mode": {
    "name": "ipython",
    "version": 3
   },
   "file_extension": ".py",
   "mimetype": "text/x-python",
   "name": "python",
   "nbconvert_exporter": "python",
   "pygments_lexer": "ipython3",
   "version": "3.11.4"
  }
 },
 "nbformat": 4,
 "nbformat_minor": 1
}
