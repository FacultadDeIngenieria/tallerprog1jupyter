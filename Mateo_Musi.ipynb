{
 "cells": [
  {
   "cell_type": "markdown",
   "metadata": {},
   "source": [
    "<h1> Exercise 1 <h1>\n",
    "<h2> Mateo Musi <h2>\n",
    "<h5>Email: <h5>\n",
    "<p> mmusi@mail.austral.edu.ar<p>"
   ]
  },
  {
   "cell_type": "markdown",
   "metadata": {},
   "source": [
    "---"
   ]
  },
  {
   "cell_type": "markdown",
   "metadata": {},
   "source": [
    "![Capybara](https://www.rainforest-alliance.org/wp-content/uploads/2021/06/capybara-square-1.jpg.optimal.jpg)\n",
    "<p> Mi animal Favorito <p>"
   ]
  },
  {
   "cell_type": "markdown",
   "metadata": {},
   "source": [
    "<h1> Exercise 2 <h1>"
   ]
  },
  {
   "cell_type": "code",
   "execution_count": 3,
   "metadata": {},
   "outputs": [],
   "source": [
    "def rectangle_area (width, heigth):\n",
    "    return(f\"The area of the rectangle with width {width} and height {heigth} is\", width * heigth)"
   ]
  },
  {
   "cell_type": "markdown",
   "metadata": {},
   "source": [
    "<h5> # CREATE A NEW CELL BELOW THIS ONE AND ADD A MARKDOWN TITLE (HEADING 1) WITH THE TEXT \"[EXERCISE 2]\"\n",
    "Create a new cell below the one with a markdown title of \"[EXERCISE 2]\" to solve the following exercise in python, it needs to be a CODE cell:\n",
    "Write a function rectangle_area(width, height) that takes the width and height of a rectangle as input and returns its area. <h5>"
   ]
  },
  {
   "cell_type": "markdown",
   "metadata": {},
   "source": [
    "<h1> Exercise 3 <h1>"
   ]
  },
  {
   "cell_type": "code",
   "execution_count": 4,
   "metadata": {},
   "outputs": [
    {
     "name": "stdout",
     "output_type": "stream",
     "text": [
      "('The area of the rectangle with width 3 and height 4 is', 12)\n"
     ]
    }
   ],
   "source": [
    "print(rectangle_area(3,4))"
   ]
  },
  {
   "cell_type": "code",
   "execution_count": 5,
   "metadata": {},
   "outputs": [
    {
     "name": "stdout",
     "output_type": "stream",
     "text": [
      "('The area of the rectangle with width 5 and height 10 is', 50)\n"
     ]
    }
   ],
   "source": [
    "print(rectangle_area(5,10))"
   ]
  },
  {
   "cell_type": "code",
   "execution_count": 6,
   "metadata": {},
   "outputs": [
    {
     "name": "stdout",
     "output_type": "stream",
     "text": [
      "('The area of the rectangle with width 8 and height 2 is', 16)\n"
     ]
    }
   ],
   "source": [
    "print(rectangle_area(8,2))"
   ]
  },
  {
   "cell_type": "markdown",
   "metadata": {},
   "source": [
    "<h5> # CREATE A NEW CELL BELOW THIS ONE AND ADD A MARKDOWN TITLE (HEADING 1) WITH THE TEXT \"[EXERCISE 3]\"\n",
    "Use your created function to calculate the area of a rectangle with width 3 and height 4. Another of width 5 and height 10, and another of width 8 and height 2. Show your results in the same cell with a description of each result. Similar to this example:\n",
    " `The area of a rectangle with width 3 and height 4 is 12.`<h5>"
   ]
  },
  {
   "cell_type": "markdown",
   "metadata": {},
   "source": [
    "<h1> Exercise 5 <h1>"
   ]
  },
  {
   "cell_type": "code",
   "execution_count": 7,
   "metadata": {},
   "outputs": [],
   "source": [
    "def central_difference(f, x, h):\n",
    "    derivate = (f(x + h) - f(x - h) / 2 * h)\n",
    "    return derivate"
   ]
  },
  {
   "cell_type": "code",
   "execution_count": 8,
   "metadata": {},
   "outputs": [
    {
     "name": "stdout",
     "output_type": "stream",
     "text": [
      "The derivate of f(x) = x^2 at x = 2 using h = 0.001 is 4.002002999499999\n"
     ]
    }
   ],
   "source": [
    "def my_function(x):\n",
    "    return x ** 2\n",
    "\n",
    "derivate_aproximation1 = central_difference(my_function, 2, 0.001)\n",
    "\n",
    "print(f\"The derivate of f(x) = x^2 at x = 2 using h = 0.001 is\", derivate_aproximation1)"
   ]
  },
  {
   "cell_type": "code",
   "execution_count": 9,
   "metadata": {},
   "outputs": [
    {
     "name": "stdout",
     "output_type": "stream",
     "text": [
      "The derivate of f(x) = x^2 at x = 2 using h = 0.01 is 4.020299499999999\n"
     ]
    }
   ],
   "source": [
    "def my_function(x):\n",
    "    return x ** 2\n",
    "\n",
    "derivate_aproximation2 = central_difference(my_function, 2, 0.01)\n",
    "\n",
    "print(f\"The derivate of f(x) = x^2 at x = 2 using h = 0.01 is\", derivate_aproximation2)"
   ]
  },
  {
   "cell_type": "code",
   "execution_count": 10,
   "metadata": {},
   "outputs": [
    {
     "name": "stdout",
     "output_type": "stream",
     "text": [
      "The derivate of f(x) = x^2 at x = 2 using h = 0.1 is 4.2295\n"
     ]
    }
   ],
   "source": [
    "def my_function(x):\n",
    "    return x ** 2\n",
    "\n",
    "derivate_aproximation3 = central_difference(my_function, 2, 0.1)\n",
    "\n",
    "print(f\"The derivate of f(x) = x^2 at x = 2 using h = 0.1 is\", derivate_aproximation3)"
   ]
  }
 ],
 "metadata": {
  "kernelspec": {
   "display_name": "Python 3 (ipykernel)",
   "language": "python",
   "name": "python3"
  },
  "language_info": {
   "codemirror_mode": {
    "name": "ipython",
    "version": 3
   },
   "file_extension": ".py",
   "mimetype": "text/x-python",
   "name": "python",
   "nbconvert_exporter": "python",
   "pygments_lexer": "ipython3",
   "version": "3.10.10"
  }
 },
 "nbformat": 4,
 "nbformat_minor": 1
}
