{
 "cells": [
  {
   "cell_type": "markdown",
   "id": "109d7597",
   "metadata": {},
   "source": [
    "<h1>EXERCISE 1</h1>\t\n"
   ]
  },
  {
   "cell_type": "markdown",
   "id": "31ac6fdf",
   "metadata": {},
   "source": [
    "---"
   ]
  },
  {
   "cell_type": "markdown",
   "id": "31f65dd5",
   "metadata": {},
   "source": [
    "<h2>Enrique Fernández</h2>\t"
   ]
  },
  {
   "cell_type": "markdown",
   "id": "cc61923e",
   "metadata": {},
   "source": [
    "<h5><em><strong>Email:</strong></em></h5><p>efernandez2@mail.austral.edu.ar</p>"
   ]
  },
  {
   "cell_type": "markdown",
   "id": "99c2856d",
   "metadata": {},
   "source": [
    "<h3>Mejor meme del mundo:</h3>"
   ]
  },
  {
   "attachments": {
    "images.jpeg": {
     "image/jpeg": "[encoded data removed]"
    }
   },
   "cell_type": "markdown",
   "id": "0ee3390f",
   "metadata": {},
   "source": [
    "![images.jpeg](attachment:images.jpeg)"
   ]
  },
  {
   "cell_type": "markdown",
   "id": "c48e4ae4",
   "metadata": {},
   "source": [
    "<h4>i believe i can fly</h4>"
   ]
  },
  {
   "cell_type": "markdown",
   "id": "0214bce7",
   "metadata": {},
   "source": [
    "<h1>[EXERCISE 2]</h1>"
   ]
  },
  {
   "cell_type": "markdown",
   "id": "69e32828",
   "metadata": {},
   "source": [
    "---"
   ]
  },
  {
   "cell_type": "markdown",
   "id": "054d68f0",
   "metadata": {},
   "source": [
    "<h2>Code of Exercise 2:</h2>"
   ]
  },
  {
   "cell_type": "code",
   "execution_count": null,
   "id": "aff91ca5",
   "metadata": {},
   "outputs": [],
   "source": [
    "width = 5\n",
    "height = 10\n",
    "\n",
    "area = rectangle_area(width, height)\n",
    "\n",
    "return(\"The area of the rectangle is\", area)\n"
   ]
  },
  {
   "cell_type": "code",
   "execution_count": null,
   "id": "a12f94e3",
   "metadata": {},
   "outputs": [],
   "source": [
    "#1. CREATE A NEW CELL BELOW THIS ONE AND ADD A MARKDOWN TITLE (HEADING 1) WITH THE TEXT \"[EXERCISE 2]\"\n",
    "\n",
    "#2. Create a new cell below the one with a markdown title of \"[EXERCISE 2]\" to solve the following exercise in python, it needs to be a CODE cell:\n",
    "\n",
    "    #Write a function rectangle_area(width, height) that takes the width and height of a rectangle as input and returns its area.\n",
    "\n",
    "#3. Add the instructions of the exercise as a comment in the code cell above the function definition."
   ]
  },
  {
   "cell_type": "markdown",
   "id": "6fa9bc0e",
   "metadata": {},
   "source": [
    "<h1>[EXERCISE 3]</h1>"
   ]
  },
  {
   "cell_type": "markdown",
   "id": "17224330",
   "metadata": {},
   "source": [
    "---"
   ]
  },
  {
   "cell_type": "code",
   "execution_count": 6,
   "id": "05e20ce2",
   "metadata": {},
   "outputs": [
    {
     "name": "stdout",
     "output_type": "stream",
     "text": [
      "The area of a rectangle with width 3 and height 4 is 12.\n",
      "The area of a rectangle with width 5 and height 10 is 50.\n",
      "The area of a rectangle with width 8 and height 2 is 16.\n"
     ]
    }
   ],
   "source": [
    "def rectangle_area(width, height):\n",
    "  \"\"\"\n",
    "  Takes the width and height of a rectangle as input and returns its area.\n",
    "\n",
    "  Args:\n",
    "    width: The width of the rectangle.\n",
    "    height: The height of the rectangle.\n",
    "\n",
    "  Returns:\n",
    "    The area of the rectangle.\n",
    "  \"\"\"\n",
    "\n",
    "  return width * height\n",
    "\n",
    "# Calculate the area of a rectangle with width 3 and height 4.\n",
    "\n",
    "width = 3\n",
    "height = 4\n",
    "\n",
    "area = rectangle_area(width, height)\n",
    "\n",
    "print(\"The area of a rectangle with width {} and height {} is {}.\".format(width, height, area))\n",
    "\n",
    "# Calculate the area of a rectangle with width 5 and height 10.\n",
    "\n",
    "width = 5\n",
    "height = 10\n",
    "\n",
    "area = rectangle_area(width, height)\n",
    "\n",
    "print(\"The area of a rectangle with width {} and height {} is {}.\".format(width, height, area))\n",
    "\n",
    "# Calculate the area of a rectangle with width 8 and height 2.\n",
    "\n",
    "width = 8\n",
    "height = 2\n",
    "\n",
    "area = rectangle_area(width, height)\n",
    "\n",
    "print(\"The area of a rectangle with width {} and height {} is {}.\".format(width, height, area))\n"
   ]
  },
  {
   "cell_type": "markdown",
   "id": "30df78f6",
   "metadata": {},
   "source": [
    "<h1>[EXERCISE 4]</h1>"
   ]
  },
  {
   "cell_type": "markdown",
   "id": "af89deca",
   "metadata": {},
   "source": [
    "---"
   ]
  },
  {
   "cell_type": "markdown",
   "id": "f6dc7f1e",
   "metadata": {},
   "source": [
    "<p>1. Move the following cell (the one that shows as a straight gray line) to be the second cell in the notebook</p>"
   ]
  },
  {
   "cell_type": "markdown",
   "id": "23443599",
   "metadata": {},
   "source": [
    "<h1>[EXERCISE 5]</h1>"
   ]
  },
  {
   "cell_type": "code",
   "execution_count": null,
   "id": "3f9b17e7",
   "metadata": {},
   "outputs": [],
   "source": [
    "def central_difference(f, x, h):\n",
    "    \"\"\"\n",
    "    Approximates the derivative of a function f at a point x using the Central Difference Approximation.\n",
    "    \n",
    "    Args:\n",
    "        f (function): The function for which the derivative needs to be approximated.\n",
    "        x (float): The point at which the derivative needs to be approximated.\n",
    "        h (float): The step size.\n",
    "    \n",
    "    Returns:\n",
    "        float: The approximate value of the derivative.\n",
    "    \"\"\"\n",
    "    # Calculate the approximate derivative using the Central Difference Approximation\n",
    "    derivative = (f(x + h) - f(x - h)) / (2 * h)\n",
    "    \n",
    "    return derivative\n",
    "    \n"
   ]
  },
  {
   "cell_type": "code",
   "execution_count": null,
   "id": "47b8e0cb",
   "metadata": {},
   "outputs": [],
   "source": [
    "# Define the function for which the derivative needs to be approximated\n",
    "def my_function(x):\n",
    "    return x**2\n",
    "\n",
    "# Call the central_difference function\n",
    "derivative_approximation = central_difference(my_function, 2, 0.001)\n",
    "\n",
    "print(derivative_approximation)  # Output: 3.9999999999995595\n"
   ]
  },
  {
   "cell_type": "markdown",
   "id": "cc178ee8",
   "metadata": {},
   "source": [
    "<h3>3.</h3>"
   ]
  },
  {
   "cell_type": "code",
   "execution_count": null,
   "id": "5888d40f",
   "metadata": {},
   "outputs": [],
   "source": [
    "# Define the function for which the derivative needs to be approximated\n",
    "def my_function(x):\n",
    "    return x**2\n",
    "\n",
    "# Calculate the derivative using different step sizes\n",
    "h_values = [0.1, 0.01, 0.001]\n",
    "\n",
    "for h in h_values:\n",
    "    derivative_approximation = central_difference(my_function, 2, h)\n",
    "    print(\"The derivative of f(x) = x^2 at x = 2 using h =\", h, \"is\", derivative_approximation)\n"
   ]
  },
  {
   "cell_type": "markdown",
   "id": "5e1baf50",
   "metadata": {},
   "source": [
    "<h1>[EXERCISE 6]</h1>"
   ]
  },
  {
   "cell_type": "markdown",
   "id": "5b08a55b",
   "metadata": {},
   "source": [
    "\n",
    "1. Export the resulting notebook as a HTML file and add it at the same level as this notebook in the repository. It should be named `firstname_lastname.html`, and it should contain all the cells with the instructions and the solutions. All the cells MUST be executed before exporting the notebook.\n",
    "\n",
    "If you happen to get an error while exporting the HTML, there's a [link to Jupyter's documentation](https://jupyterlab.readthedocs.io/en/latest/user/export.html) that might help you.\n",
    "\n",
    "Trying things out and both googling and understanding any error that comes up is part of the assignment. You are expected to be able to solve this kind of issues on your own. You can always ask for help to your peers or the instructor, but you need to show that you tried to solve the issue on your own first."
   ]
  }
 ],
 "metadata": {
  "kernelspec": {
   "display_name": "Python 3 (ipykernel)",
   "language": "python",
   "name": "python3"
  },
  "language_info": {
   "codemirror_mode": {
    "name": "ipython",
    "version": 3
   },
   "file_extension": ".py",
   "mimetype": "text/x-python",
   "name": "python",
   "nbconvert_exporter": "python",
   "pygments_lexer": "ipython3",
   "version": "3.11.2"
  }
 },
 "nbformat": 4,
 "nbformat_minor": 5
}
