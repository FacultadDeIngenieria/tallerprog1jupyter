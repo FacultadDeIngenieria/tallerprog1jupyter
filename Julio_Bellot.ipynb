{
 "cells": [
  {
   "cell_type": "markdown",
   "metadata": {},
   "source": [
    "# Assignment\n",
    "\n",
    "The assignment will require you to complete cells, create new ones, and move around some cells. You need to familiarize yourself with the Jupyter notebook interface. You can find a tutorial [here](https://www.dataquest.io/blog/jupyter-notebook-tutorial/).\n",
    "\n",
    "\n",
    "**MAKE SURE TO MAKE A COPY OF THIS ASSIGNMENT IN YOUR OWN REPOSITORY.** (delete this line in your new copy :) )\n"
   ]
  },
  {
   "cell_type": "markdown",
   "metadata": {},
   "source": [
    "---"
   ]
  },
  {
   "cell_type": "markdown",
   "metadata": {},
   "source": [
    "# [EXERCISE 1]\n",
    "\n",
    "A tutorial for markdown titles, bold, italic, etc. can be found [here](https://www.markdownguide.org/basic-syntax/).\n",
    "\n",
    "\n",
    "1. You need to update this cell with a title in markdown saying [EXERCISE 1]. Also, add subtitle with your full name and university email in markdown. Add a picture of your preference beneath the subtitle (IT CAN BE A PICTURE OF YOU, A PICTURE OF YOUR FAVORITE ANIMAL, A PICTURE OF YOUR FAVORITE PLACE, ETC.)\n",
    ". It must be [safe-for-work](https://www.computerhope.com/jargon/s/sfw.htm)\n",
    "2. Add a description of the image as text, all in the same cell.\n",
    "3. REPLACE ANY EXISTING TEXT IN THIS CELL WITH YOUR OWN TEXT. DO NOT KEEP THE EXISTING TEXT WITH THE INSTRUCTIONS. YOU CAN CREATE A NEW CELL IF YOU PREFER, BUT THIS ONE NEEDS TO BE REMOVED."
   ]
  },
  {
   "cell_type": "markdown",
   "metadata": {},
   "source": [
    "# [EXERCISE 2]"
   ]
  },
  {
   "cell_type": "code",
   "execution_count": 7,
   "metadata": {
    "scrolled": false
   },
   "outputs": [
    {
     "data": {
      "text/plain": [
       "'40'"
      ]
     },
     "execution_count": 7,
     "metadata": {},
     "output_type": "execute_result"
    }
   ],
   "source": [
    "#[EXERCISE 2]\n",
    "#CREATE A NEW CELL BELOW THIS ONE AND ADD A MARKDOWN TITLE (HEADING 1) WITH THE TEXT \"[EXERCISE 2]\"\n",
    "#Create a new cell below the one with a markdown title of \"[EXERCISE 2]\" to solve the following exercise in python, it needs to be a CODE cell:\n",
    "#Write a function rectangle_area(width, height) that takes the width and height of a rectangle as input and returns its area.\n",
    "def rectangle_area(width, height):\n",
    "    x = width * height\n",
    "    return f\"{x}\"\n",
    "rectangle_area(5, 8)"
   ]
  },
  {
   "cell_type": "code",
   "execution_count": 5,
   "metadata": {},
   "outputs": [],
   "source": [
    "# [EXERCISE 3]"
   ]
  },
  {
   "cell_type": "code",
   "execution_count": 4,
   "metadata": {},
   "outputs": [
    {
     "name": "stdout",
     "output_type": "stream",
     "text": [
      "The area of a rectangle with width 3 and height 4 is 12.\n",
      "The area of a rectangle with width 5 and height 10 is 50.\n",
      "The area of a rectangle with width 8 and height 2 is 16.\n"
     ]
    }
   ],
   "source": [
    "def rectangle_area(width, height):\n",
    "    x = width * height\n",
    "    print(f\"The area of a rectangle with width {width} and height {height} is {x}.\")\n",
    "rectangle_area(3, 4)\n",
    "rectangle_area(5, 10)\n",
    "rectangle_area(8, 2)"
   ]
  },
  {
   "cell_type": "markdown",
   "metadata": {},
   "source": [
    "# [EXERCISE 5]"
   ]
  },
  {
   "cell_type": "code",
   "execution_count": 8,
   "metadata": {},
   "outputs": [],
   "source": [
    "def funcion(x):\n",
    "    return x**2\n",
    "def central_difference(f, x, h):\n",
    "    x1= x + h\n",
    "    x2= x - h\n",
    "    return (f(x1)-f(x2))/(2*h)"
   ]
  },
  {
   "cell_type": "code",
   "execution_count": 9,
   "metadata": {},
   "outputs": [
    {
     "name": "stdout",
     "output_type": "stream",
     "text": [
      "The devivate of f(x) = x^2 at x = 2 using h = 0.1 is 4.000000000000001.\n",
      "The devivate of f(x) = x^2 at x = 2 using h = 0.01 is 3.999999999999937.\n",
      "The devivate of f(x) = x^2 at x = 2 using h = 0.001 is 3.9999999999995595.\n"
     ]
    }
   ],
   "source": [
    "print (f\"The devivate of f(x) = x^2 at x = 2 using h = 0.1 is {central_difference(funcion, 2, 0.1)}.\")\n",
    "print (f\"The devivate of f(x) = x^2 at x = 2 using h = 0.01 is {central_difference(funcion, 2, 0.01)}.\")\n",
    "print (f\"The devivate of f(x) = x^2 at x = 2 using h = 0.001 is {central_difference(funcion, 2, 0.001)}.\")"
   ]
  },
  {
   "cell_type": "markdown",
   "metadata": {},
   "source": [
    "# [EXERCISE 6]"
   ]
  }
 ],
 "metadata": {
  "kernelspec": {
   "display_name": "Python 3 (ipykernel)",
   "language": "python",
   "name": "python3"
  },
  "language_info": {
   "codemirror_mode": {
    "name": "ipython",
    "version": 3
   },
   "file_extension": ".py",
   "mimetype": "text/x-python",
   "name": "python",
   "nbconvert_exporter": "python",
   "pygments_lexer": "ipython3",
   "version": "3.11.2"
  }
 },
 "nbformat": 4,
 "nbformat_minor": 1
}
