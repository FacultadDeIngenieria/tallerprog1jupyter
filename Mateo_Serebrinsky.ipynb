{
 "cells": [
  {
   "cell_type": "markdown",
   "metadata": {},
   "source": [
    "# Assignment\n",
    "\n",
    "The assignment will require you to complete cells, create new ones, and move around some cells. You need to familiarize yourself with the Jupyter notebook interface. You can find a tutorial [here](https://www.dataquest.io/blog/jupyter-notebook-tutorial/).\n"
   ]
  },
  {
   "cell_type": "markdown",
   "metadata": {},
   "source": [
    "---"
   ]
  },
  {
   "cell_type": "markdown",
   "metadata": {},
   "source": [
    "# [EXERCISE 1]\n",
    "\n",
    "## Mateo Serebrinsky ; mserebrinsky@mail.austral.edu.ar\n",
    "\n",
    "![Foto de mi lugar favorito](https://services.meteored.com/img/article/se-endereza-la-torre-de-pisa-recupera-4-centimetros-1672763123032_1280.jpg)\n",
    "\n",
    "Esta foto me hace acordar a mi abuela que es italiana y su lugar favorito es la \"Torre de Pisa\"\n"
   ]
  },
  {
   "cell_type": "markdown",
   "metadata": {},
   "source": [
    "# [EXERCISE 2]"
   ]
  },
  {
   "cell_type": "code",
   "execution_count": 5,
   "metadata": {
    "scrolled": true
   },
   "outputs": [],
   "source": [
    "#1. CREATE A NEW CELL BELOW THIS ONE AND ADD A MARKDOWN TITLE (HEADING 1) WITH THE TEXT \"[EXERCISE 2]\"\n",
    "#2. Create a new cell below the one with a markdown title of \"[EXERCISE 2]\" to solve the following exercise in python, it needs to be a CODE cell:\n",
    "#Write a function rectangle_area(width, height) that takes the width and height of a rectangle as input and returns its area.\n",
    "#3. Add the instructions of the exercise as a comment in the code cell above the function definition.\n",
    "#4. DO NOT KEEP THE CELL WITH THESE INSTRUCTIONS.\n",
    "\n",
    "def rectangle_area(width, height):\n",
    "    area = width * height\n",
    "    return area\n",
    "\n",
    "# Esta función toma la altura y el ancho que le indiques y te devuelve la altura."
   ]
  },
  {
   "cell_type": "markdown",
   "metadata": {},
   "source": [
    "# [EXERCISE 3]\n",
    "CREATE A NEW CELL BELOW THIS ONE AND ADD A MARKDOWN TITLE (HEADING 1) WITH THE TEXT \"[EXERCISE 3]\"\n",
    "\n",
    "Use your created function to calculate the area of a rectangle with width 3 and height 4. Another of width 5 and height 10, and another of width 8 and height 2. Show your results in the same cell with a description of each result. Similar to this example:\n",
    "\n",
    " `The area of a rectangle with width 3 and height 4 is 12.`\n",
    "Add the instructions of the exercise as a comment in the code cell with the solution.\n",
    "\n",
    "DO NOT KEEP THE CELL WITH THESE INSTRUCTIONS."
   ]
  },
  {
   "cell_type": "code",
   "execution_count": 6,
   "metadata": {
    "scrolled": true
   },
   "outputs": [
    {
     "name": "stdout",
     "output_type": "stream",
     "text": [
      "the area of a rectangle with width 3 and height 4 is 12\n",
      "the area of a rectangle with width 5 and height 10 is 50\n",
      "the area of a rectangle with width 8 and height 2 is 16\n"
     ]
    }
   ],
   "source": [
    "a = rectangle_area(3,4)\n",
    "print(f\"the area of a rectangle with width 3 and height 4 is {a}\")\n",
    "b = rectangle_area(5,10)\n",
    "print(f\"the area of a rectangle with width 5 and height 10 is {b}\")\n",
    "c = rectangle_area(8,2)\n",
    "print(f\"the area of a rectangle with width 8 and height 2 is {c}\")\n",
    "\n",
    "#1. CREATE A NEW CELL BELOW THIS ONE AND ADD A MARKDOWN TITLE (HEADING 1) WITH THE TEXT \"[EXERCISE 3]\"\n",
    "#2. Use your created function to calculate the area of a rectangle with width 3 and height 4. Another of width 5 and height 10, and another of width 8 and height 2. Show your results in the same cell with a description of each result. Similar to this example:\n",
    "#`The area of a rectangle with width 3 and height 4 is 12.`\n",
    "#3. Add the instructions of the exercise as a comment in the code cell with the solution.\n",
    "#4. DO NOT KEEP THE CELL WITH THESE INSTRUCTIONS."
   ]
  },
  {
   "cell_type": "markdown",
   "metadata": {},
   "source": [
    "# [EXERCISE 4]"
   ]
  },
  {
   "cell_type": "markdown",
   "metadata": {},
   "source": [
    "# [EXERCISE 5]"
   ]
  },
  {
   "cell_type": "code",
   "execution_count": 7,
   "metadata": {},
   "outputs": [],
   "source": [
    "def central_difference(f, x ,h):\n",
    "    return (f(x+h)-f(x)) / h"
   ]
  },
  {
   "cell_type": "code",
   "execution_count": 8,
   "metadata": {},
   "outputs": [
    {
     "name": "stdout",
     "output_type": "stream",
     "text": [
      "The derivative of f(x) = x^2 at x 2 using h = 0.1 is 4.100000000000001\n",
      "The derivative of f(x) = x^2 at x 2 using h = 0.1 is 4.009999999999891\n",
      "The derivative of f(x) = x^2 at x 2 using h = 0.1 is 4.000999999999699\n"
     ]
    }
   ],
   "source": [
    "def squere(x): \n",
    "    return x ** 2\n",
    "\n",
    "\n",
    "f = squere\n",
    "x = 2\n",
    "\n",
    "h_1 = 0.1\n",
    "print(f'The derivative of f(x) = x^2 at x {x} using h = 0.1 is {central_difference(squere, x, h_1)}')\n",
    "\n",
    "h_2 = 0.01\n",
    "print(f'The derivative of f(x) = x^2 at x {x} using h = 0.1 is {central_difference(squere, x, h_2)}')\n",
    "      \n",
    "h_3 = 0.001\n",
    "print(f'The derivative of f(x) = x^2 at x {x} using h = 0.1 is {central_difference(squere, x, h_3)}')"
   ]
  },
  {
   "cell_type": "markdown",
   "metadata": {},
   "source": [
    "# [EXERCISE 6]"
   ]
  }
 ],
 "metadata": {
  "kernelspec": {
   "display_name": "Python 3 (ipykernel)",
   "language": "python",
   "name": "python3"
  },
  "language_info": {
   "codemirror_mode": {
    "name": "ipython",
    "version": 3
   },
   "file_extension": ".py",
   "mimetype": "text/x-python",
   "name": "python",
   "nbconvert_exporter": "python",
   "pygments_lexer": "ipython3",
   "version": "3.11.2"
  }
 },
 "nbformat": 4,
 "nbformat_minor": 1
}
