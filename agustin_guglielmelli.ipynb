{
 "cells": [
  {
   "cell_type": "markdown",
   "metadata": {},
   "source": [
    "# [EXERCISE 1]\n",
    "\n",
    "## Agustín Guglielmelli - aguglielmelli@mail.austral.edu.ar\n",
    "![Esta es una imágen de un león, que es el animal que más me gusta!](leon.jpg)\n",
    "<p>Esta es una imágen de un león, que es el animal que más me gusta!<p>"
   ]
  },
  {
   "cell_type": "markdown",
   "metadata": {},
   "source": [
    "---"
   ]
  },
  {
   "cell_type": "markdown",
   "metadata": {},
   "source": [
    "# [EXERCISE 2]"
   ]
  },
  {
   "cell_type": "code",
   "execution_count": null,
   "metadata": {},
   "outputs": [],
   "source": [
    "# La función pide dos variables, \"width\" y \"height\" que son el ancho y la altura de un rectángulo. Luego las multiplica y devuelve el resultado (área). \n",
    "def rectangle_area(width,height):\n",
    "    area = width * height\n",
    "    return f\"El área del rectángulo es {area}\"\n"
   ]
  },
  {
   "cell_type": "markdown",
   "metadata": {},
   "source": [
    "# [EXERCISE 3]"
   ]
  },
  {
   "cell_type": "code",
   "execution_count": 3,
   "metadata": {},
   "outputs": [
    {
     "name": "stdout",
     "output_type": "stream",
     "text": [
      "El área del rectángulo es con largo 3 y alto 4 es 12\n",
      "El área del rectángulo es con largo 5 y alto 10 es 50\n",
      "El área del rectángulo es con largo 8 y alto 2 es 16\n"
     ]
    }
   ],
   "source": [
    "def rectangle_area(width,height):\n",
    "    area = width * height\n",
    "    return f\"El área del rectángulo es con largo {width} y alto {height} es {area}\"\n",
    "\n",
    "print(rectangle_area(3,4)) # El área del rectángulo es con largo 3 y alto 4 es 12\n",
    "print(rectangle_area(5,10)) # El área del rectángulo es con largo 5 y alto 10 es 50\n",
    "print(rectangle_area(8,2)) # El área del rectángulo es con largo 8 y alto 2 es 16\n"
   ]
  },
  {
   "cell_type": "markdown",
   "metadata": {},
   "source": [
    "<h1>[EXERCISE 5]</h1>\n",
    "\n",
    "1. CREATE A NEW CELL BELOW THIS ONE AND ADD A MARKDOWN TITLE (HEADING 1) WITH THE TEXT \"[EXERCISE 5]\"\n",
    "2. CREATE A NEW CELL BELOW THE ONE WITH THE MARKDOWN TITLE OF \"[EXERCISE 5]\" TO SOLVE THE FOLLOWING EXERCISE IN PYTHON:\n",
    "\n",
    "    `Write a function central_difference(f, x, h) that approximates the derivative of a function f at a point x using the Central Difference Approximation. The function should take the function f, the point at which the derivative needs to be approximated x, and the step size h as input, and return the approximate value of the derivative.`\n",
    "\n",
    "https://en.wikipedia.org/wiki/Finite_difference\n",
    "\n",
    "3. Create a new cell with examples of the use of the function central_difference(f, x, h) to approximate the derivative of the function f(x) = x^2 at x = 2 using h = 0.1, h = 0.01, and h = 0.001. Show your results in the same cell with a description of each result. Similar to this example:\n",
    "\n",
    "        `The derivative of f(x) = x^2 at x = 2 using h = 0.1 is 4.1.`\n",
    "        \n",
    "4. DO NOT KEEP THE CELL WITH THESE INSTRUCTIONS.\n"
   ]
  },
  {
   "cell_type": "code",
   "execution_count": 3,
   "metadata": {},
   "outputs": [],
   "source": [
    "def central_difference(f, x, h):\n",
    "    return (f(x+h)-f(x))/h"
   ]
  },
  {
   "cell_type": "code",
   "execution_count": 4,
   "metadata": {},
   "outputs": [
    {
     "name": "stdout",
     "output_type": "stream",
     "text": [
      "the derivative of f(x)) = x^2 at x 2 using h = 0.1 is 4.100000000000001\n",
      "the derivative of f(x)) = x^2 at x 2 using h = 0.01 is 4.009999999999891\n",
      "the derivative of f(x)) = x^2 at x 2 using h = 0.001 is 4.000999999999699\n"
     ]
    }
   ],
   "source": [
    "def square(x): return x ** 2\n",
    "f = square\n",
    "x = 2\n",
    "\n",
    "h_1 = 0.1\n",
    "print(f\"the derivative of f(x)) = x^2 at x {x} using h = {h_1} is {central_difference(square, x, h_1)}\")\n",
    "\n",
    "h_2 = 0.01\n",
    "print(f\"the derivative of f(x)) = x^2 at x {x} using h = {h_2} is {central_difference(square, x, h_2)}\")\n",
    "\n",
    "h_3 = 0.001\n",
    "print(f\"the derivative of f(x)) = x^2 at x {x} using h = {h_3} is {central_difference(square, x, h_3)}\")"
   ]
  }
 ],
 "metadata": {
  "kernelspec": {
   "display_name": "Python 3 (ipykernel)",
   "language": "python",
   "name": "python3"
  },
  "language_info": {
   "codemirror_mode": {
    "name": "ipython",
    "version": 3
   },
   "file_extension": ".py",
   "mimetype": "text/x-python",
   "name": "python",
   "nbconvert_exporter": "python",
   "pygments_lexer": "ipython3",
   "version": "3.11.2"
  }
 },
 "nbformat": 4,
 "nbformat_minor": 1
}
