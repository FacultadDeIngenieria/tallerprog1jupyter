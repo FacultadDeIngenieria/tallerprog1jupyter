{
 "cells": [
  {
   "cell_type": "markdown",
   "metadata": {},
   "source": [
    "# Assignment\n",
    "\n",
    "The assignment will require you to complete cells, create new ones, and move around some cells. You need to familiarize yourself with the Jupyter notebook interface. You can find a tutorial [here](https://www.dataquest.io/blog/jupyter-notebook-tutorial/).\n",
    "\n",
    "\n",
    "**MAKE SURE TO MAKE A COPY OF THIS ASSIGNMENT IN YOUR OWN REPOSITORY.**\n"
   ]
  },
  {
   "cell_type": "markdown",
   "metadata": {},
   "source": [
    "---"
   ]
  },
  {
   "cell_type": "markdown",
   "metadata": {},
   "source": [
    "# [EXERCISE 1]\n",
    "## Franco Luca Descalzo fdescalzo@mail.austral.edu.ar\n",
    "![Mi perro mirandome detras de una roca!](CRW_0455.jpg)"
   ]
  },
  {
   "cell_type": "markdown",
   "metadata": {},
   "source": [
    "# [EXERCISE 2]"
   ]
  },
  {
   "cell_type": "code",
   "execution_count": 4,
   "metadata": {},
   "outputs": [],
   "source": [
    "#Function that takes the input of the width and height of a rectangle and returns its area.\n",
    "def rectangle_area(width, height):\n",
    "    area = height*width\n",
    "    return area"
   ]
  },
  {
   "cell_type": "markdown",
   "metadata": {},
   "source": [
    "# [EXERCISE 3]"
   ]
  },
  {
   "cell_type": "code",
   "execution_count": 5,
   "metadata": {},
   "outputs": [
    {
     "name": "stdout",
     "output_type": "stream",
     "text": [
      "The area of a rectangle with width 3 and height 4 is 12.\n",
      "The area of a rectangle with width 5 and height 10 is 50.\n",
      "The area of a rectangle with width 8 and height 2 is 16.\n"
     ]
    }
   ],
   "source": [
    "#Use your created function to calculate the area of a rectangle with width 3 and height 4. Another of width 5 and height 10, and another of width 8 and height 2. Show your results in the same cell with a description of each result. Similar to this example:\n",
    "#The area of a rectangle with width 3 and height 4 is 12.`\n",
    "#Add the instructions of the exercise as a comment in the code cell with the solution.\n",
    "print(f\"The area of a rectangle with width 3 and height 4 is {rectangle_area(3, 4)}.\")\n",
    "print(f\"The area of a rectangle with width 5 and height 10 is {rectangle_area(5, 10)}.\")\n",
    "print(f\"The area of a rectangle with width 8 and height 2 is {rectangle_area(8, 2)}.\")"
   ]
  },
  {
   "cell_type": "markdown",
   "metadata": {},
   "source": [
    "# [EXERCISE 5]"
   ]
  },
  {
   "cell_type": "code",
   "execution_count": 6,
   "metadata": {},
   "outputs": [],
   "source": [
    "def central_difference(f, x, h):\n",
    "    return (f(x+h)-f(x))/h"
   ]
  },
  {
   "cell_type": "code",
   "execution_count": 7,
   "metadata": {},
   "outputs": [
    {
     "name": "stdout",
     "output_type": "stream",
     "text": [
      "the derivative of f(x)) = x^2 at x 2 using h = 0.1 is 4.100000000000001\n",
      "the derivative of f(x)) = x^2 at x 2 using h = 0.01 is 4.009999999999891\n",
      "the derivative of f(x)) = x^2 at x 2 using h = 0.001 is 4.000999999999699\n"
     ]
    }
   ],
   "source": [
    "def square(x): return x ** 2\n",
    "f = square\n",
    "x = 2\n",
    "\n",
    "h_1 = 0.1\n",
    "print(f\"the derivative of f(x)) = x^2 at x {x} using h = {h_1} is {central_difference(square, x, h_1)}\")\n",
    "\n",
    "h_2 = 0.01\n",
    "print(f\"the derivative of f(x)) = x^2 at x {x} using h = {h_2} is {central_difference(square, x, h_2)}\")\n",
    "\n",
    "h_3 = 0.001\n",
    "print(f\"the derivative of f(x)) = x^2 at x {x} using h = {h_3} is {central_difference(square, x, h_3)}\")"
   ]
  }
 ],
 "metadata": {
  "kernelspec": {
   "display_name": "Python 3 (ipykernel)",
   "language": "python",
   "name": "python3"
  },
  "language_info": {
   "codemirror_mode": {
    "name": "ipython",
    "version": 3
   },
   "file_extension": ".py",
   "mimetype": "text/x-python",
   "name": "python",
   "nbconvert_exporter": "python",
   "pygments_lexer": "ipython3",
   "version": "3.11.3"
  }
 },
 "nbformat": 4,
 "nbformat_minor": 4
}
