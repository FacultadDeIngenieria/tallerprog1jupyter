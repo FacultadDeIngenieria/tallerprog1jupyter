{
 "cells": [
  {
   "cell_type": "markdown",
   "metadata": {},
   "source": [
    "# Assignment\n",
    "\n",
    "The assignment will require you to complete cells, create new ones, and move around some cells. You need to familiarize yourself with the Jupyter notebook interface. You can find a tutorial [here](https://www.dataquest.io/blog/jupyter-notebook-tutorial/).\n",
    "\n",
    "\n"
   ]
  },
  {
   "cell_type": "markdown",
   "metadata": {},
   "source": [
    "---"
   ]
  },
  {
   "attachments": {
    "images.jpg": {
     "image/jpeg": "[encoded data removed]"
    }
   },
   "cell_type": "markdown",
   "metadata": {},
   "source": [
    "# [EXERCISE 1]\n",
    "\n",
    "## Francisco Donzelli, fdonzelli@mail.austral.edu.ar\n",
    "\n",
    "![images.jpg](attachment:images.jpg)\n",
    "KIRBY! what else could it be?"
   ]
  },
  {
   "cell_type": "markdown",
   "metadata": {},
   "source": [
    "# [EXERCISE 2]\n",
    "\n",
    "Write a function rectangle_area(width, height) that takes the width and height of a rectangle as input and returns its area."
   ]
  },
  {
   "cell_type": "code",
   "execution_count": 21,
   "metadata": {},
   "outputs": [],
   "source": [
    "def rectangle_area(width, height):\n",
    "    width = int(input('Set width: '))\n",
    "    height = int(input('Set height:'))\n",
    "    area= width * height\n",
    "    return area"
   ]
  },
  {
   "cell_type": "markdown",
   "metadata": {},
   "source": [
    "# [EXERCISE 3]\n",
    "\n",
    "Use your created function to calculate the area of a rectangle with width 3 and height 4. Another of width 5 and height 10, and another of width 8 and height 2. Show your results in the same cell with a description of each result. Similar to this example:\n",
    "\n",
    " `The area of a rectangle with width 3 and height 4 is 12.`"
   ]
  },
  {
   "cell_type": "code",
   "execution_count": 28,
   "metadata": {
    "scrolled": true
   },
   "outputs": [
    {
     "name": "stdout",
     "output_type": "stream",
     "text": [
      "The area of a rectangle with width 3 and height 4 is 12.\n",
      "The area of a rectangle with width 5 and height 10 is 50.\n",
      "The area of a rectangle with width 8 and height 2 is 16.\n"
     ]
    }
   ],
   "source": [
    "def rectangle_area(width, height):\n",
    "    area= width * height\n",
    "    return area\n",
    "\n",
    "print(f'The area of a rectangle with width 3 and height 4 is {rectangle_area(3,4)}.')\n",
    "print(f'The area of a rectangle with width 5 and height 10 is {rectangle_area(5,10)}.')\n",
    "print(f'The area of a rectangle with width 8 and height 2 is {rectangle_area(8,2)}.')"
   ]
  },
  {
   "cell_type": "markdown",
   "metadata": {},
   "source": [
    "# [EXERCISE 5]"
   ]
  },
  {
   "cell_type": "code",
   "execution_count": 23,
   "metadata": {},
   "outputs": [],
   "source": [
    "def central_difference(f, x, h):\n",
    "    return (f(x + h) - f(x - h)) / (2 * h)"
   ]
  },
  {
   "cell_type": "code",
   "execution_count": 29,
   "metadata": {},
   "outputs": [
    {
     "name": "stdout",
     "output_type": "stream",
     "text": [
      "The derivative of f(x) = x^2 at x = 2 using h = 0.1 is 4.0.\n",
      "The derivative of f(x) = x^2 at x = 2 using h = 0.01 is 4.0.\n",
      "The derivative of f(x) = x^2 at x = 2 using h = 0.001 is 4.0.\n"
     ]
    }
   ],
   "source": [
    "def f(x):\n",
    "    return x**2\n",
    "\n",
    "x = 2\n",
    "h_values = [0.1, 0.01, 0.001]\n",
    "\n",
    "for h in h_values:\n",
    "    derivative = central_difference(f, x, h)\n",
    "    result = f\"The derivative of f(x) = x^2 at x = 2 using h = {h} is {derivative:.1f}.\"\n",
    "    print(result)"
   ]
  }
 ],
 "metadata": {
  "kernelspec": {
   "display_name": "Python 3 (ipykernel)",
   "language": "python",
   "name": "python3"
  },
  "language_info": {
   "codemirror_mode": {
    "name": "ipython",
    "version": 3
   },
   "file_extension": ".py",
   "mimetype": "text/x-python",
   "name": "python",
   "nbconvert_exporter": "python",
   "pygments_lexer": "ipython3",
   "version": "3.11.3"
  }
 },
 "nbformat": 4,
 "nbformat_minor": 1
}
