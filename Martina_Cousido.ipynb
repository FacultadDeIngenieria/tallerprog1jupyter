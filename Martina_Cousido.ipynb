{
 "cells": [
  {
   "cell_type": "markdown",
   "metadata": {},
   "source": [
    "# Assignment\n",
    "\n",
    "The assignment will require you to complete cells, create new ones, and move around some cells. You need to familiarize yourself with the Jupyter notebook interface. You can find a tutorial [here](https://www.dataquest.io/blog/jupyter-notebook-tutorial/).\n",
    "\n",
    "\n",
    "**MAKE SURE TO MAKE A COPY OF THIS ASSIGNMENT IN YOUR OWN REPOSITORY.** (delete this line in your new copy :) )\n"
   ]
  },
  {
   "cell_type": "markdown",
   "metadata": {},
   "source": [
    "---"
   ]
  },
  {
   "cell_type": "markdown",
   "metadata": {},
   "source": [
    "# [EXERCISE 1]\n",
    "## Martina Cousido / mcousido@mail.austral.edu.ar\n",
    "![Los hurones son una belleza](https://www.clinicaveterinariazarpa.com/wp-content/uploads/2019/04/huron-cuidados-basicos-veterinario.jpg)\n",
    "\n",
    "Un hurón color blanco y negro posado sobre una manta azul. \n"
   ]
  },
  {
   "cell_type": "markdown",
   "metadata": {},
   "source": [
    "#[EXERCISE 2]"
   ]
  },
  {
   "cell_type": "code",
   "execution_count": 6,
   "metadata": {},
   "outputs": [],
   "source": [
    "def rectangle_area(width, height):\n",
    "    area = width*height\n",
    "    return area\n",
    "\n",
    "#Dado un ancho y una altura, devuelve el área de un rectángulo."
   ]
  },
  {
   "cell_type": "markdown",
   "metadata": {},
   "source": [
    "#[EXCERCISE 3]"
   ]
  },
  {
   "cell_type": "code",
   "execution_count": 7,
   "metadata": {},
   "outputs": [
    {
     "name": "stdout",
     "output_type": "stream",
     "text": [
      "12\n",
      "50\n",
      "16\n"
     ]
    }
   ],
   "source": [
    "print(rectangle_area(3, 4))\n",
    "#Este ejercicio devuelve el area de un rectangulo cuyo ancho es 3 y su altura 4. Este resultado es 12. \n",
    "print(rectangle_area(5, 10))\n",
    "##Este ejercicio devuelve el area de un rectangulo cuyo ancho es 5 y su altura 10. Este resultado es 50. \n",
    "print(rectangle_area(8, 2))\n",
    "#Este ejercicio devuelve el area de un rectangulo cuyo ancho es 8 y su altura 2. Este resultado es 16."
   ]
  },
  {
   "cell_type": "markdown",
   "metadata": {},
   "source": [
    "#[EXERCISE 5]"
   ]
  },
  {
   "cell_type": "code",
   "execution_count": 8,
   "metadata": {},
   "outputs": [],
   "source": [
    "def f(x):\n",
    "    return x**2\n",
    "\n",
    "def central_difference(f, x, h):\n",
    "    return (f(x+h) - f(x))/h\n"
   ]
  },
  {
   "cell_type": "code",
   "execution_count": 9,
   "metadata": {},
   "outputs": [
    {
     "name": "stdout",
     "output_type": "stream",
     "text": [
      "4.100000000000001\n",
      "4.009999999999891\n",
      "4.000999999999699\n"
     ]
    }
   ],
   "source": [
    "print(central_difference(f, 2, 0.1))\n",
    "#La derivada de f(x) = x al cuadrado, x = 2 y h = 0.1 es 4.1 \n",
    "print(central_difference(f, 2, 0.01))\n",
    "#La derivada de f(x) = x al cuadrado, x = 2 y h = 0.01 es 4.1 \n",
    "print(central_difference(f, 2, 0.001))\n",
    "#La derivada de f(x) = x al cuadrado, x = 2 y h = 0.001 es 4.1 "
   ]
  }
 ],
 "metadata": {
  "kernelspec": {
   "display_name": "Python 3 (ipykernel)",
   "language": "python",
   "name": "python3"
  },
  "language_info": {
   "codemirror_mode": {
    "name": "ipython",
    "version": 3
   },
   "file_extension": ".py",
   "mimetype": "text/x-python",
   "name": "python",
   "nbconvert_exporter": "python",
   "pygments_lexer": "ipython3",
   "version": "3.11.3"
  }
 },
 "nbformat": 4,
 "nbformat_minor": 1
}
