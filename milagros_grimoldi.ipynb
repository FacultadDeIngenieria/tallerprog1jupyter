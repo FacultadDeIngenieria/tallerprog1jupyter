{
 "cells": [
  {
   "cell_type": "markdown",
   "metadata": {},
   "source": [
    "# Assignment\n",
    "\n",
    "The assignment will require you to complete cells, create new ones, and move around some cells. You need to familiarize yourself with the Jupyter notebook interface. You can find a tutorial [here](https://www.dataquest.io/blog/jupyter-notebook-tutorial/)."
   ]
  },
  {
   "cell_type": "markdown",
   "metadata": {},
   "source": [
    "---"
   ]
  },
  {
   "cell_type": "markdown",
   "metadata": {},
   "source": [
    "# [EXERCISE 1]\n",
    "## Milagros Grimoldi mgrimoldi@mail.edu.ar\n",
    "![San martin de los andes is beautiful!](https://images.fineartamerica.com/images/artworkimages/mediumlarge/1/lone-pine-by-andes-mountain-lake-barbie-corbett-newmin.jpg \"San Martin de los Andes\")\n",
    "\n",
    "La imagen es de una playa de San Martin de los Andes donde se ve el lago y de fondo una montaña."
   ]
  },
  {
   "cell_type": "markdown",
   "metadata": {},
   "source": [
    "# [EXERCISE 2]"
   ]
  },
  {
   "cell_type": "code",
   "execution_count": 3,
   "metadata": {},
   "outputs": [],
   "source": [
    "def rectangle_area(width, height):\n",
    "    return width * height\n",
    " #Enter the widht and the height of a rectangle and the function will deliver its area."
   ]
  },
  {
   "cell_type": "markdown",
   "metadata": {},
   "source": [
    "# [EXERCISE 3]"
   ]
  },
  {
   "cell_type": "code",
   "execution_count": 4,
   "metadata": {},
   "outputs": [
    {
     "name": "stdout",
     "output_type": "stream",
     "text": [
      "The area of a rectangle of width 3 and height 4 is 12\n",
      "The area of a rectangle of width 3 and height 4 is 50\n",
      "The area of a rectangle of width 3 and height 4 is 16\n"
     ]
    }
   ],
   "source": [
    "print(f\"The area of a rectangle of width 3 and height 4 is {rectangle_area(3, 4)}\")\n",
    "print(f\"The area of a rectangle of width 3 and height 4 is {rectangle_area(5, 10)}\")\n",
    "print(f\"The area of a rectangle of width 3 and height 4 is {rectangle_area(8, 2)}\")"
   ]
  },
  {
   "cell_type": "markdown",
   "metadata": {},
   "source": [
    "# [EXERCISE 5]"
   ]
  },
  {
   "cell_type": "code",
   "execution_count": 6,
   "metadata": {},
   "outputs": [],
   "source": [
    "def central_difference(f, x, h):\n",
    "    return (f(x + h) - f(x)) / h"
   ]
  },
  {
   "cell_type": "code",
   "execution_count": 10,
   "metadata": {},
   "outputs": [
    {
     "name": "stdout",
     "output_type": "stream",
     "text": [
      "The derivative of f(x) = x^2 at x = 2 using h = 0.1 is 4.100000000000001\n",
      "The derivative of f(x) = x^2 at x = 2 using h = 0.1 is 4.009999999999891\n",
      "The derivative of f(x) = x^2 at x = 2 using h = 0.1 is 4.000999999999699\n"
     ]
    }
   ],
   "source": [
    "def fun(x):\n",
    "    return x**2\n",
    "print(f\"The derivative of f(x) = x^2 at x = 2 using h = 0.1 is {central_difference(fun, 2, 0.1)}\")\n",
    "print(f\"The derivative of f(x) = x^2 at x = 2 using h = 0.1 is {central_difference(fun, 2, 0.01)}\")\n",
    "print(f\"The derivative of f(x) = x^2 at x = 2 using h = 0.1 is {central_difference(fun, 2, 0.001)}\")"
   ]
  }
 ],
 "metadata": {
  "kernelspec": {
   "display_name": "Python 3 (ipykernel)",
   "language": "python",
   "name": "python3"
  },
  "language_info": {
   "codemirror_mode": {
    "name": "ipython",
    "version": 3
   },
   "file_extension": ".py",
   "mimetype": "text/x-python",
   "name": "python",
   "nbconvert_exporter": "python",
   "pygments_lexer": "ipython3",
   "version": "3.11.2"
  }
 },
 "nbformat": 4,
 "nbformat_minor": 1
}
