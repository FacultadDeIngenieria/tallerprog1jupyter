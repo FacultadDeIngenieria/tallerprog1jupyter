{
 "cells": [
  {
   "cell_type": "markdown",
   "metadata": {},
   "source": [
    "# Assignment\n",
    "\n",
    "The assignment will require you to complete cells, create new ones, and move around some cells. You need to familiarize yourself with the Jupyter notebook interface. You can find a tutorial [here](https://www.dataquest.io/blog/jupyter-notebook-tutorial/).\n",
    "\n",
    "\n",
    "**MAKE SURE TO MAKE A COPY OF THIS ASSIGNMENT IN YOUR OWN REPOSITORY.** (delete this line in your new copy :) )\n"
   ]
  },
  {
   "cell_type": "markdown",
   "metadata": {},
   "source": [
    "---"
   ]
  },
  {
   "cell_type": "markdown",
   "metadata": {},
   "source": [
    "# [EXERCISE 1]\n",
    "\n",
    "## Facundo Pyznar, fpyznar@mail.austral.edu.ar\n",
    "\n",
    "![Playa en Brasil](https://mediaim.expedia.com/destination/1/346522328781208230227be8d7ef9c93.jpg)\n",
    "\n",
    "Este lugar se llama Praia Brava, una ciudad en Brasil. Me gusta mucho ir de vacaciones a ese lugar por su playa y sus olas.\n"
   ]
  },
  {
   "cell_type": "markdown",
   "metadata": {},
   "source": [
    "# [EXERCISE 2]\n"
   ]
  },
  {
   "cell_type": "code",
   "execution_count": 4,
   "metadata": {},
   "outputs": [],
   "source": [
    "#Esta funcion devuelve el area de un rectangulo \n",
    "\n",
    "def rectangle_area(width, height):\n",
    "    area = width * height\n",
    "    return area\n",
    "\n",
    "#CREATE A NEW CELL BELOW THIS ONE AND ADD A MARKDOWN TITLE (HEADING 1) WITH THE TEXT \"[EXERCISE 2]\"\n",
    "\n",
    "#Create a new cell below the one with a markdown title of \"[EXERCISE 2]\" to solve the following exercise in python, it needs to be a CODE cell:\n",
    "\n",
    "#Write a function rectangle_area(width, height) that takes the width and height of a rectangle as input and returns its area."
   ]
  },
  {
   "cell_type": "markdown",
   "metadata": {},
   "source": [
    "# [EXERCISE 3]\n",
    "\n"
   ]
  },
  {
   "cell_type": "code",
   "execution_count": 13,
   "metadata": {},
   "outputs": [
    {
     "name": "stdout",
     "output_type": "stream",
     "text": [
      "The area of the rectangle is: 12\n",
      "The area of the rectangle is: 50\n",
      "The area of the rectangle is: 16\n"
     ]
    }
   ],
   "source": [
    "area = rectangle_area(3, 4)\n",
    "print(\"The area of the rectangle is:\", area)\n",
    "\n",
    "area = rectangle_area(5, 10)\n",
    "print(\"The area of the rectangle is:\", area)\n",
    "\n",
    "area = rectangle_area(8, 2)\n",
    "print(\"The area of the rectangle is:\", area)\n",
    "\n",
    "#1. CREATE A NEW CELL BELOW THIS ONE AND ADD A MARKDOWN TITLE (HEADING 1) WITH THE TEXT \"[EXERCISE 3]\"\n",
    "#2. Use your created function to calculate the area of a rectangle with width 3 and height 4. Another of width 5 and height 10, and another of width 8 and height 2. Show your results in the same cell with a description of each result. Similar to this example:\n",
    "        #`The area of a rectangle with width 3 and height 4 is 12.`\n",
    "#3. Add the instructions of the exercise as a comment in the code cell with the solution."
   ]
  },
  {
   "cell_type": "markdown",
   "metadata": {},
   "source": [
    "# [EXERCISE 4]\n"
   ]
  },
  {
   "cell_type": "markdown",
   "metadata": {},
   "source": [
    "# [EXERCISE 5]\n"
   ]
  },
  {
   "cell_type": "code",
   "execution_count": 17,
   "metadata": {},
   "outputs": [],
   "source": [
    "def central_difference(f, x ,h):\n",
    "    return (f(x+h)-f(x)) / h"
   ]
  },
  {
   "cell_type": "code",
   "execution_count": 18,
   "metadata": {},
   "outputs": [
    {
     "name": "stdout",
     "output_type": "stream",
     "text": [
      "The derivative of f(x) = x^2 at x 2 using h = 0.1 is 4.100000000000001\n",
      "The derivative of f(x) = x^2 at x 2 using h = 0.1 is 4.009999999999891\n",
      "The derivative of f(x) = x^2 at x 2 using h = 0.1 is 4.000999999999699\n"
     ]
    }
   ],
   "source": [
    "def squere(x): return x ** 2\n",
    "\n",
    "\n",
    "f = squere\n",
    "x = 2\n",
    "\n",
    "h_1 = 0.1\n",
    "print(f'The derivative of f(x) = x^2 at x {x} using h = 0.1 is {central_difference(squere, x, h_1)}')\n",
    "\n",
    "h_2 = 0.01\n",
    "print(f'The derivative of f(x) = x^2 at x {x} using h = 0.1 is {central_difference(squere, x, h_2)}')\n",
    "      \n",
    "h_3 = 0.001\n",
    "print(f'The derivative of f(x) = x^2 at x {x} using h = 0.1 is {central_difference(squere, x, h_3)}')"
   ]
  },
  {
   "cell_type": "markdown",
   "metadata": {},
   "source": [
    "# [EXERCISE 6]\n",
    "\n",
    "1. Export the resulting notebook as a HTML file and add it at the same level as this notebook in the repository. It should be named `firstname_lastname.html`, and it should contain all the cells with the instructions and the solutions. All the cells MUST be executed before exporting the notebook.\n",
    "\n",
    "If you happen to get an error while exporting the HTML, there's a [link to Jupyter's documentation](https://jupyterlab.readthedocs.io/en/latest/user/export.html) that might help you.\n",
    "\n",
    "Trying things out and both googling and understanding any error that comes up is part of the assignment. You are expected to be able to solve this kind of issues on your own. You can always ask for help to your peers or the instructor, but you need to show that you tried to solve the issue on your own first.\n",
    "\n",
    "\n",
    "\n",
    "2. DO NOT KEEP THE CELL WITH THESE INSTRUCTIONS."
   ]
  },
  {
   "cell_type": "code",
   "execution_count": null,
   "metadata": {},
   "outputs": [],
   "source": []
  }
 ],
 "metadata": {
  "kernelspec": {
   "display_name": "Python 3 (ipykernel)",
   "language": "python",
   "name": "python3"
  },
  "language_info": {
   "codemirror_mode": {
    "name": "ipython",
    "version": 3
   },
   "file_extension": ".py",
   "mimetype": "text/x-python",
   "name": "python",
   "nbconvert_exporter": "python",
   "pygments_lexer": "ipython3",
   "version": "3.11.2"
  }
 },
 "nbformat": 4,
 "nbformat_minor": 1
}
