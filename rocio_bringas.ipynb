{
 "cells": [
  {
   "cell_type": "markdown",
   "metadata": {},
   "source": [
    "# Assignment\n",
    "\n",
    "The assignment will require you to complete cells, create new ones, and move around some cells. You need to familiarize yourself with the Jupyter notebook interface. You can find a tutorial [here](https://www.dataquest.io/blog/jupyter-notebook-tutorial/)."
   ]
  },
  {
   "cell_type": "markdown",
   "metadata": {},
   "source": [
    "---"
   ]
  },
  {
   "cell_type": "markdown",
   "metadata": {},
   "source": [
    "# [EXERCISE 1] \n",
    "\n",
    "## Rocio Bringas <rbringas@mail.austral.edu.ar> \n",
    "![ny skyline!](https://upload.wikimedia.org/wikipedia/commons/4/47/New_york_times_square-terabass.jpg \"nyc\") \n",
    "Photo taken in Times Square. The city that never sleeps!! "
   ]
  },
  {
   "cell_type": "markdown",
   "metadata": {},
   "source": [
    "# [EXERCISE 2] "
   ]
  },
  {
   "cell_type": "code",
   "execution_count": 21,
   "metadata": {},
   "outputs": [],
   "source": [
    "def rectangle_area(width, height):\n",
    "    return width*height \n",
    "\n",
    "#Write a function rectangle_area(width, height) that takes the width and height of a rectangle as input and returns its area."
   ]
  },
  {
   "cell_type": "markdown",
   "metadata": {},
   "source": [
    "# [EXERCISE 3] "
   ]
  },
  {
   "cell_type": "code",
   "execution_count": 22,
   "metadata": {},
   "outputs": [
    {
     "name": "stdout",
     "output_type": "stream",
     "text": [
      "The area of the rectangle with width 3 and height 4 is 12\n",
      "The area of the rectangle with width 5 and height 10 is 50\n",
      "The area of the rectangle with width 8 and height 2 is 16\n"
     ]
    }
   ],
   "source": [
    "print(f\"The area of the rectangle with width 3 and height 4 is {rectangle_area(3,4)}\")\n",
    "print(f\"The area of the rectangle with width 5 and height 10 is {rectangle_area(5,10)}\")\n",
    "print(f\"The area of the rectangle with width 8 and height 2 is {rectangle_area(8,2)}\")\n",
    "\n",
    "#Use your created function to calculate the area of a rectangle with width 3 and height 4. Another of width 5 and height 10, and another of width 8 and height 2. Show your results in the same cell with a description of each result. "
   ]
  },
  {
   "cell_type": "markdown",
   "metadata": {},
   "source": [
    "# [EXERCISE 5] "
   ]
  },
  {
   "cell_type": "code",
   "execution_count": 23,
   "metadata": {},
   "outputs": [],
   "source": [
    "def central_difference(f,x,h): \n",
    "    return (f(x+h)-f(x))/h"
   ]
  },
  {
   "cell_type": "code",
   "execution_count": 24,
   "metadata": {},
   "outputs": [
    {
     "name": "stdout",
     "output_type": "stream",
     "text": [
      "The derivative of f(x) = x^2 at x = 2 using h = 0.1 is 4.100000000000001\n",
      "The derivative of f(x) = x^2 at x = 2 using h = 0.1 is 4.009999999999891\n",
      "The derivative of f(x) = x^2 at x = 2 using h = 0.1 is 4.000999999999699\n"
     ]
    }
   ],
   "source": [
    "def fun(x): \n",
    "    return x**2\n",
    "f = fun\n",
    "\n",
    "print(f\"The derivative of f(x) = x^2 at x = 2 using h = 0.1 is {central_difference(fun,2,0.1)}\")\n",
    "print(f\"The derivative of f(x) = x^2 at x = 2 using h = 0.1 is {central_difference(fun,2,0.01)}\")\n",
    "print(f\"The derivative of f(x) = x^2 at x = 2 using h = 0.1 is {central_difference(fun,2,0.001)}\")"
   ]
  }
 ],
 "metadata": {
  "kernelspec": {
   "display_name": "Python 3 (ipykernel)",
   "language": "python",
   "name": "python3"
  },
  "language_info": {
   "codemirror_mode": {
    "name": "ipython",
    "version": 3
   },
   "file_extension": ".py",
   "mimetype": "text/x-python",
   "name": "python",
   "nbconvert_exporter": "python",
   "pygments_lexer": "ipython3",
   "version": "3.11.2"
  }
 },
 "nbformat": 4,
 "nbformat_minor": 1
}
