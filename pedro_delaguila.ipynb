{
 "cells": [
  {
   "cell_type": "markdown",
   "metadata": {},
   "source": [
    "# Assignment\n",
    "\n",
    "The assignment will require you to complete cells, create new ones, and move around some cells. You need to familiarize yourself with the Jupyter notebook interface. You can find a tutorial [here](https://www.dataquest.io/blog/jupyter-notebook-tutorial/).\n",
    "\n",
    "\n",
    "**MAKE SURE TO MAKE A COPY OF THIS ASSIGNMENT IN YOUR OWN REPOSITORY.** (delete this line in your new copy :) )\n"
   ]
  },
  {
   "cell_type": "markdown",
   "metadata": {},
   "source": [
    "# [EXERCISE 1]\n",
    "\n",
    "\n",
    "## Pedro Del Aguila - pdelaguila@mail.austral.edu.ar\n",
    "![atardecer](https://www.elindependiente.com/wp-content/uploads/2021/07/atardecer-playa-alejandria2-scaled.jpg)\n",
    "\n",
    "Es un atardecer muy lindo en la playa de Pinamar al lado del muelle con nubes en verano\n"
   ]
  },
  {
   "cell_type": "markdown",
   "metadata": {},
   "source": [
    "---"
   ]
  },
  {
   "cell_type": "markdown",
   "metadata": {},
   "source": [
    "# EXERCISE 2  "
   ]
  },
  {
   "cell_type": "code",
   "execution_count": 6,
   "metadata": {},
   "outputs": [],
   "source": [
    "# La funcion rectangle_area pide dos valores uno de ancho y otro de altura que son las medidas del rectangulo. Al multiplicar los valores, nos da como resultado el area del rectangulo. Esto se muestra en en un f string con los resultados.\n",
    "def rectangle_area(width, height):\n",
    "    area = width*height\n",
    "    return f\"El area del rectangulo tiene un {width} de ancho y un {height} de alto es igual a{area}\"\n"
   ]
  },
  {
   "cell_type": "markdown",
   "metadata": {},
   "source": [
    "# EXERCISE 3"
   ]
  },
  {
   "cell_type": "code",
   "execution_count": 8,
   "metadata": {},
   "outputs": [
    {
     "name": "stdout",
     "output_type": "stream",
     "text": [
      "El area del rectangulo tiene un 3 de ancho y un 4 de alto y es igual a 12\n",
      "El area del rectangulo tiene un 5 de ancho y un 10 de alto y es igual a 50\n",
      "El area del rectangulo tiene un 8 de ancho y un 2 de alto y es igual a 16\n"
     ]
    }
   ],
   "source": [
    "def rectangle_area(width, height):\n",
    "    area = width*height\n",
    "    return f\"El area del rectangulo tiene un {width} de ancho y un {height} de alto y es igual a {area}\"\n",
    "\n",
    "print(rectangle_area(3, 4)) # RTA: El area del rectangulo tiene un 3 de ancho y un 4 de alto y es igual a 12\n",
    "print(rectangle_area(5, 10)) # RTA: El area del rectangulo tiene un 5 de ancho y un 10 de alto y es igual a 50\n",
    "print(rectangle_area(8, 2)) # RTA: El area del rectangulo tiene un 8 de ancho y un 2 de alto y es igual a 16"
   ]
  },
  {
   "cell_type": "markdown",
   "metadata": {},
   "source": [
    "# EXERCISE 5"
   ]
  },
  {
   "cell_type": "code",
   "execution_count": null,
   "metadata": {},
   "outputs": [],
   "source": [
    "def central_difference(f, x, h):\n",
    "    return (f(x+h)- f(x))/h\n"
   ]
  },
  {
   "cell_type": "code",
   "execution_count": null,
   "metadata": {},
   "outputs": [],
   "source": [
    "def central_difference(f, x, h):\n",
    "    return (f(x+h)- f(x))/h\n",
    "x = 2\n",
    "f = x**2\n",
    "h_1 = 0.1\n",
    "h_2 = 0.01\n",
    "h_3 = 0.001\n",
    "print(f\"The derivative of f(x) = x^2 at x {x} using h = {h_1} is {central_difference(f, 2, h_1)})\n",
    "print(f\"The derivative of f(x) = x^2 at x {x} using h = {h_2} is {central_difference(f, 2, h_2)})\n",
    "print(f\"The derivative of f(x) = x^2 at x {x} using h = {h_3} is {central_difference(f, 2, h_3)})"
   ]
  }
 ],
 "metadata": {
  "kernelspec": {
   "display_name": "Python 3 (ipykernel)",
   "language": "python",
   "name": "python3"
  },
  "language_info": {
   "codemirror_mode": {
    "name": "ipython",
    "version": 3
   },
   "file_extension": ".py",
   "mimetype": "text/x-python",
   "name": "python",
   "nbconvert_exporter": "python",
   "pygments_lexer": "ipython3",
   "version": "3.11.3"
  }
 },
 "nbformat": 4,
 "nbformat_minor": 1
}
