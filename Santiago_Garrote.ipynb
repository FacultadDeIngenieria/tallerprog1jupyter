{
 "cells": [
  {
   "attachments": {
    "29072.png": {
     "image/png": "[encoded data removed]"
    }
   },
   "cell_type": "markdown",
   "metadata": {},
   "source": [
    "\n",
    "<h1>[EXERCISE 1]</h1>\n",
    "\n",
    "<h2>Santiago Garrote sgarrote@mail.austral.edu.ar</h2>\n",
    "\n",
    "![29072.png](attachment:29072.png)\n",
    "\n",
    "<p>Es una imagen PNG</p>\n"
   ]
  },
  {
   "cell_type": "markdown",
   "metadata": {},
   "source": [
    "---"
   ]
  },
  {
   "cell_type": "markdown",
   "metadata": {},
   "source": [
    "<h1>[EXERCISE 2]</h1>"
   ]
  },
  {
   "cell_type": "code",
   "execution_count": 3,
   "metadata": {},
   "outputs": [],
   "source": [
    "# Write a function rectangle_area(width, height) that takes the width and height of a rectangle as input and returns its area.\n",
    "def rectangle_area(width, height):\n",
    "    area = width*height\n",
    "    return area"
   ]
  },
  {
   "cell_type": "markdown",
   "metadata": {},
   "source": [
    "\n",
    "<h1>[EXERCISE 3]</h1>"
   ]
  },
  {
   "cell_type": "code",
   "execution_count": 13,
   "metadata": {},
   "outputs": [
    {
     "name": "stdout",
     "output_type": "stream",
     "text": [
      "The area of a rectangle with width 3 and height 4 is 12.\n",
      "The area of a rectangle with width 5 and height 10 is 50.\n",
      "The area of a rectangle with width 8 and height 2 is 16.\n"
     ]
    }
   ],
   "source": [
    "'''\n",
    "Use your created function to calculate the area of a rectangle with width 3 and height 4. Another of width 5 and height 10, and another of width 8 and height 2. Show your results in the same cell with a description of each result. Similar to this example:\n",
    "\n",
    "        `The area of a rectangle with width 3 and height 4 is 12.`\n",
    "'''\n",
    "\n",
    "def rectangle_area(width, height):\n",
    "    area = width*height\n",
    "    print(f'The area of a rectangle with width {width} and height {height} is {area}.')\n",
    "rectangle_area(3,4)\n",
    "rectangle_area(5,10)\n",
    "rectangle_area(8,2)\n",
    "\n"
   ]
  },
  {
   "cell_type": "markdown",
   "metadata": {},
   "source": [
    "<h1>[EXERCISE 5]</h1>"
   ]
  },
  {
   "cell_type": "code",
   "execution_count": 12,
   "metadata": {},
   "outputs": [
    {
     "name": "stdout",
     "output_type": "stream",
     "text": [
      "The derivative of f(x) = x^2 at x = 2 using h = 0.1 is 4.4.\n",
      "The derivative of f(x) = x^2 at x = 2 using h = 0.01 is 4.04.\n",
      "The derivative of f(x) = x^2 at x = 2 using h = 0.001 is 4.004000000000001.\n"
     ]
    }
   ],
   "source": [
    "'''\n",
    "Write a function central_difference(f, x, h) that approximates the derivative of a function f at a point x \n",
    "using the Central Difference Approximation. \n",
    "The function should take the function f, the point at which the derivative needs to be approximated x, and \n",
    "the step size h as input, and return the approximate value of the derivative.\n",
    "'''\n",
    "\n",
    "def central_difference(f, x, h):\n",
    "    x0 = x + h/2\n",
    "    \n",
    "    x1 = x - h/2\n",
    "    \n",
    "    f_x0 = x0 ** int(f[2])\n",
    "    f_x1 = x1 ** int(f[2])\n",
    "    \n",
    "    aproximation = x**int(f[2]) + f_x0 - f_x1\n",
    "    \n",
    "    print(f\"The derivative of f(x) = {f} at x = {x} using h = {h} is {aproximation}.\")\n",
    "central_difference(\"x^2\",2,0.1)\n",
    "central_difference(\"x^2\",2,0.01)\n",
    "central_difference(\"x^2\",2,0.001)"
   ]
  }
 ],
 "metadata": {
  "kernelspec": {
   "display_name": "Python 3 (ipykernel)",
   "language": "python",
   "name": "python3"
  },
  "language_info": {
   "codemirror_mode": {
    "name": "ipython",
    "version": 3
   },
   "file_extension": ".py",
   "mimetype": "text/x-python",
   "name": "python",
   "nbconvert_exporter": "python",
   "pygments_lexer": "ipython3",
   "version": "3.11.0"
  }
 },
 "nbformat": 4,
 "nbformat_minor": 1
}
