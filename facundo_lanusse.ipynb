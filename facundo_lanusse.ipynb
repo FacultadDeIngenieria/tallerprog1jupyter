{
 "cells": [
  {
   "cell_type": "markdown",
   "metadata": {},
   "source": [
    "# Assignment\n",
    "\n",
    "The assignment will require you to complete cells, create new ones, and move around some cells. You need to familiarize yourself with the Jupyter notebook interface. You can find a tutorial [here](https://www.dataquest.io/blog/jupyter-notebook-tutorial/)."
   ]
  },
  {
   "cell_type": "markdown",
   "metadata": {},
   "source": [
    "---"
   ]
  },
  {
   "cell_type": "markdown",
   "metadata": {},
   "source": [
    "# [EXERCISE 1]\n",
    "\n",
    "A tutorial for markdown titles, bold, italic, etc. can be found [here](https://www.markdownguide.org/basic-syntax/).\n",
    "\n",
    "\n",
    "1. You need to update this cell with a title in markdown saying [EXERCISE 1]. Also, add subtitle with your full name and university email in markdown. Add a picture of your preference beneath the subtitle (IT CAN BE A PICTURE OF YOU, A PICTURE OF YOUR FAVORITE ANIMAL, A PICTURE OF YOUR FAVORITE PLACE, ETC.)\n",
    ". It must be [safe-for-work](https://www.computerhope.com/jargon/s/sfw.htm)\n",
    "2. Add a description of the image as text, all in the same cell.\n",
    "3. REPLACE ANY EXISTING TEXT IN THIS CELL WITH YOUR OWN TEXT. DO NOT KEEP THE EXISTING TEXT WITH THE INSTRUCTIONS. YOU CAN CREATE A NEW CELL IF YOU PREFER, BUT THIS ONE NEEDS TO BE REMOVED."
   ]
  },
  {
   "cell_type": "markdown",
   "metadata": {},
   "source": [
    "# [EXERCISE 1]\n",
    "\n",
    "## Facundo Lanusse ; falanusse@mail.austral.edu.ar\n",
    "\n",
    "![montañas](https://static.eldiario.es/clip/c9110a1b-bc8d-4ca7-a1da-316c9f4e068e_16-9-aspect-ratio_default_0.jpg)\n",
    "\n",
    "¡Mejor lugar de mundo!"
   ]
  },
  {
   "cell_type": "markdown",
   "metadata": {},
   "source": [
    "# [EXERCISE 2]\n",
    "\n",
    "1. CREATE A NEW CELL BELOW THIS ONE AND ADD A MARKDOWN TITLE (HEADING 1) WITH THE TEXT \"[EXERCISE 2]\"\n",
    "\n",
    "2. Create a new cell below the one with a markdown title of \"[EXERCISE 2]\" to solve the following exercise in python, it needs to be a CODE cell:\n",
    "\n",
    "    Write a function rectangle_area(width, height) that takes the width and height of a rectangle as input and returns its area.\n",
    "\n",
    "3. Add the instructions of the exercise as a comment in the code cell above the function definition.\n",
    "4. DO NOT KEEP THE CELL WITH THESE INSTRUCTIONS."
   ]
  },
  {
   "cell_type": "markdown",
   "metadata": {},
   "source": [
    "# [EXERCISE 2]"
   ]
  },
  {
   "cell_type": "code",
   "execution_count": 1,
   "metadata": {},
   "outputs": [],
   "source": [
    "def rectangle_area(width, height):\n",
    "    area = width * height\n",
    "    return area\n",
    "\n",
    "#Esta funcion te da el area del rectangulo cuando pones la base y la altura del mismo"
   ]
  },
  {
   "cell_type": "markdown",
   "metadata": {},
   "source": [
    "# [EXERCISE 3]\n",
    "\n",
    "1. CREATE A NEW CELL BELOW THIS ONE AND ADD A MARKDOWN TITLE (HEADING 1) WITH THE TEXT \"[EXERCISE 3]\"\n",
    "2. Use your created function to calculate the area of a rectangle with width 3 and height 4. Another of width 5 and height 10, and another of width 8 and height 2. Show your results in the same cell with a description of each result. Similar to this example:\n",
    "\n",
    "        `The area of a rectangle with width 3 and height 4 is 12.`\n",
    "3. Add the instructions of the exercise as a comment in the code cell with the solution.\n",
    "4. DO NOT KEEP THE CELL WITH THESE INSTRUCTIONS.\n"
   ]
  },
  {
   "cell_type": "markdown",
   "metadata": {},
   "source": [
    "# [EXERCISE 3]"
   ]
  },
  {
   "cell_type": "code",
   "execution_count": 6,
   "metadata": {},
   "outputs": [
    {
     "name": "stdout",
     "output_type": "stream",
     "text": [
      "The area of a rectangle with width 3 and height 4 is 12.\n",
      "The area of a rectangle with width 5 and height 10 is 50.\n",
      "The area of a rectangle with width 8 and height 2 is 16.\n"
     ]
    }
   ],
   "source": [
    "a = rectangle_area(3,4)\n",
    "print(f\"The area of a rectangle with width 3 and height 4 is {a}.\")\n",
    "b = rectangle_area(5,10)\n",
    "print(f\"The area of a rectangle with width 5 and height 10 is {b}.\")\n",
    "c = rectangle_area(8,2)\n",
    "print(f\"The area of a rectangle with width 8 and height 2 is {c}.\")"
   ]
  },
  {
   "cell_type": "markdown",
   "metadata": {},
   "source": [
    "# [EXERCISE 4]"
   ]
  },
  {
   "cell_type": "markdown",
   "metadata": {},
   "source": [
    "# [EXERCISE 5]\n",
    "\n",
    "1. CREATE A NEW CELL BELOW THIS ONE AND ADD A MARKDOWN TITLE (HEADING 1) WITH THE TEXT \"[EXERCISE 5]\"\n",
    "2. CREATE A NEW CELL BELOW THE ONE WITH THE MARKDOWN TITLE OF \"[EXERCISE 5]\" TO SOLVE THE FOLLOWING EXERCISE IN PYTHON:\n",
    "\n",
    "    `Write a function central_difference(f, x, h) that approximates the derivative of a function f at a point x using the Central Difference Approximation. The function should take the function f, the point at which the derivative needs to be approximated x, and the step size h as input, and return the approximate value of the derivative.`\n",
    "\n",
    "https://en.wikipedia.org/wiki/Finite_difference\n",
    "\n",
    "3. Create a new cell with examples of the use of the function central_difference(f, x, h) to approximate the derivative of the function f(x) = x^2 at x = 2 using h = 0.1, h = 0.01, and h = 0.001. Show your results in the same cell with a description of each result. Similar to this example:\n",
    "\n",
    "        `The derivative of f(x) = x^2 at x = 2 using h = 0.1 is 4.1.`\n",
    "        \n",
    "4. DO NOT KEEP THE CELL WITH THESE INSTRUCTIONS.\n"
   ]
  },
  {
   "cell_type": "markdown",
   "metadata": {},
   "source": [
    "# [EXERCISE 5]"
   ]
  },
  {
   "cell_type": "code",
   "execution_count": 2,
   "metadata": {},
   "outputs": [],
   "source": [
    "def central_difference(f, x ,h):\n",
    "    return (f(x+h)-f(x)) / h"
   ]
  },
  {
   "cell_type": "code",
   "execution_count": 3,
   "metadata": {},
   "outputs": [
    {
     "name": "stdout",
     "output_type": "stream",
     "text": [
      "The derivative of f(x) = x^2 at x 2 using h = 0.1 is 4.100000000000001\n",
      "The derivative of f(x) = x^2 at x 2 using h = 0.1 is 4.009999999999891\n",
      "The derivative of f(x) = x^2 at x 2 using h = 0.1 is 4.000999999999699\n"
     ]
    }
   ],
   "source": [
    "def squere(x): return x ** 2\n",
    "\n",
    "\n",
    "f = squere\n",
    "x = 2\n",
    "\n",
    "h_1 = 0.1\n",
    "print(f'The derivative of f(x) = x^2 at x {x} using h = 0.1 is {central_difference(squere, x, h_1)}')\n",
    "\n",
    "h_2 = 0.01\n",
    "print(f'The derivative of f(x) = x^2 at x {x} using h = 0.1 is {central_difference(squere, x, h_2)}')\n",
    "      \n",
    "h_3 = 0.001\n",
    "print(f'The derivative of f(x) = x^2 at x {x} using h = 0.1 is {central_difference(squere, x, h_3)}')"
   ]
  },
  {
   "cell_type": "markdown",
   "metadata": {},
   "source": [
    "# [EXERCISE 6]\n",
    "\n",
    "1. Export the resulting notebook as a HTML file and add it at the same level as this notebook in the repository. It should be named `firstname_lastname.html`, and it should contain all the cells with the instructions and the solutions. All the cells MUST be executed before exporting the notebook.\n",
    "\n",
    "If you happen to get an error while exporting the HTML, there's a [link to Jupyter's documentation](https://jupyterlab.readthedocs.io/en/latest/user/export.html) that might help you.\n",
    "\n",
    "Trying things out and both googling and understanding any error that comes up is part of the assignment. You are expected to be able to solve this kind of issues on your own. You can always ask for help to your peers or the instructor, but you need to show that you tried to solve the issue on your own first.\n",
    "\n",
    "\n",
    "\n",
    "2. DO NOT KEEP THE CELL WITH THESE INSTRUCTIONS."
   ]
  },
  {
   "cell_type": "code",
   "execution_count": null,
   "metadata": {},
   "outputs": [],
   "source": []
  }
 ],
 "metadata": {
  "kernelspec": {
   "display_name": "Python 3 (ipykernel)",
   "language": "python",
   "name": "python3"
  },
  "language_info": {
   "codemirror_mode": {
    "name": "ipython",
    "version": 3
   },
   "file_extension": ".py",
   "mimetype": "text/x-python",
   "name": "python",
   "nbconvert_exporter": "python",
   "pygments_lexer": "ipython3",
   "version": "3.11.3"
  }
 },
 "nbformat": 4,
 "nbformat_minor": 1
}
