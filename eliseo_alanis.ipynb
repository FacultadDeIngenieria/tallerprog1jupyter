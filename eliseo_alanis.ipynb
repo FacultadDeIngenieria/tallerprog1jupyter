{
 "cells": [
  {
   "cell_type": "markdown",
   "metadata": {},
   "source": [
    "# [EXERCISE 1]\n",
    "\n",
    "## Eliseo Alanis - ealanistoledo@mail.austral.edu.ar </h2>\n",
    "![Haas, equipo de f1](https://imgresizer.eurosport.com/unsafe/1200x0/filters:format(webp):focal(934x605:936x603)/origin-imgresizer.eurosport.com/2023/01/31/3539280-72132768-2560-1440.jpg)\n",
    "Haas es una escuderia de Formula 1 (carrera de autos). Este es el automovil que usan para esta temporada.\n",
    "\n"
   ]
  },
  {
   "cell_type": "markdown",
   "metadata": {},
   "source": [
    "# [EXERCISE 4]."
   ]
  },
  {
   "cell_type": "markdown",
   "metadata": {},
   "source": [
    "# [EXERCISE 2]\n"
   ]
  },
  {
   "cell_type": "code",
   "execution_count": 1,
   "metadata": {},
   "outputs": [
    {
     "name": "stdout",
     "output_type": "stream",
     "text": [
      "10\n"
     ]
    }
   ],
   "source": [
    "def calcular_area(width, height):\n",
    "    a = width*height\n",
    "    return a\n",
    "print(calcular_area(2, 5))\n"
   ]
  },
  {
   "cell_type": "markdown",
   "metadata": {},
   "source": [
    "# [EXERCISE 3]"
   ]
  },
  {
   "cell_type": "code",
   "execution_count": 2,
   "metadata": {
    "scrolled": true
   },
   "outputs": [
    {
     "name": "stdout",
     "output_type": "stream",
     "text": [
      "The area of a rectangle with width 3 and height 4 is 12\n",
      "The area of a rectangle with width 3 and height 4 is 50\n",
      "The area of a rectangle with width 3 and height 4 is 16\n"
     ]
    }
   ],
   "source": [
    "print (f\"The area of a rectangle with width 3 and height 4 is {calcular_area(3, 4)}\")\n",
    "print (f\"The area of a rectangle with width 3 and height 4 is {calcular_area(5, 10)}\")\n",
    "print (f\"The area of a rectangle with width 3 and height 4 is {calcular_area(8, 2)}\")"
   ]
  },
  {
   "cell_type": "markdown",
   "metadata": {},
   "source": [
    "---"
   ]
  },
  {
   "cell_type": "markdown",
   "metadata": {},
   "source": [
    "# [EXERCISE 5]"
   ]
  },
  {
   "cell_type": "code",
   "execution_count": 3,
   "metadata": {
    "scrolled": true
   },
   "outputs": [],
   "source": [
    "def central_difference(f, x, h):\n",
    "    return (f(x + h) - f(x))/h"
   ]
  },
  {
   "cell_type": "code",
   "execution_count": 4,
   "metadata": {},
   "outputs": [
    {
     "name": "stdout",
     "output_type": "stream",
     "text": [
      "The derivative of f(x) = x^2 at x = 2 using h = 0.1 is 4.100000000000001\n",
      "The derivative of f(x) = x^2 at x = 2 using h = 0.1 is 4.009999999999891\n",
      "The derivative of f(x) = x^2 at x = 2 using h = 0.1 is 4.000999999999699\n"
     ]
    }
   ],
   "source": [
    "def f(x):\n",
    "    return x**2\n",
    "print (\"The derivative of f(x) = x^2 at x = 2 using h = 0.1 is\", central_difference(f, 2, 0.1))\n",
    "print (\"The derivative of f(x) = x^2 at x = 2 using h = 0.1 is\", central_difference(f, 2, 0.01))\n",
    "print (\"The derivative of f(x) = x^2 at x = 2 using h = 0.1 is\", central_difference(f, 2, 0.001))"
   ]
  },
  {
   "cell_type": "code",
   "execution_count": null,
   "metadata": {},
   "outputs": [],
   "source": []
  }
 ],
 "metadata": {
  "kernelspec": {
   "display_name": "Python 3 (ipykernel)",
   "language": "python",
   "name": "python3"
  },
  "language_info": {
   "codemirror_mode": {
    "name": "ipython",
    "version": 3
   },
   "file_extension": ".py",
   "mimetype": "text/x-python",
   "name": "python",
   "nbconvert_exporter": "python",
   "pygments_lexer": "ipython3",
   "version": "3.11.3"
  }
 },
 "nbformat": 4,
 "nbformat_minor": 1
}
