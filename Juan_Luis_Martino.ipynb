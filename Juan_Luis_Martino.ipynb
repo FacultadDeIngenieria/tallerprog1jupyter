{
 "cells": [
  {
   "cell_type": "markdown",
   "metadata": {},
   "source": [
    "# Assignment\n",
    "\n",
    "The assignment will require you to complete cells, create new ones, and move around some cells. You need to familiarize yourself with the Jupyter notebook interface. You can find a tutorial [here](https://www.dataquest.io/blog/jupyter-notebook-tutorial/)."
   ]
  },
  {
   "cell_type": "markdown",
   "metadata": {},
   "source": [
    "---"
   ]
  },
  {
   "cell_type": "markdown",
   "metadata": {},
   "source": [
    "# [EXERCISE 1]\n",
    "## Juan Luis Martinó / jlmartino@mail.austral.edu.ar\n",
    "\n",
    "![El zorro artico y su belleza](https://images.ecestaticos.com/i77Z9Gx9x_MWl-GzfqlEgHpaXYY=/120x8:1712x903/972x547/filters:fill(white):format(jpg)/f.elconfidencial.com%2Foriginal%2F98b%2F194%2F885%2F98b1948857ae3d59d300404ed6a60962.jpg)\n",
    "Un zorro artico en su habitat natural sobre una piedra, rodeado de nieve"
   ]
  },
  {
   "cell_type": "markdown",
   "metadata": {},
   "source": [
    "#[EXERCISE 2]"
   ]
  },
  {
   "cell_type": "code",
   "execution_count": null,
   "metadata": {},
   "outputs": [],
   "source": [
    "def rectangle_area(width, height):\n",
    "    area = width*height\n",
    "    return area\n",
    "#dado un ancho y una altura, devuelve el area de un rectangulo."
   ]
  },
  {
   "cell_type": "markdown",
   "metadata": {},
   "source": [
    "#[EXERCISE 3]"
   ]
  },
  {
   "cell_type": "code",
   "execution_count": null,
   "metadata": {},
   "outputs": [],
   "source": [
    "print(rectangle_area(3, 4))\n",
    "#Este ejercicio devuelve el area de un rectangulo cuyo ancho es 3 y su altura 4. Este resultado es 12\n",
    "print(rectangle_area(5, 10))\n",
    "#Este ejercicio devuelve el area de un rectangulo cuyo ancho es 5 y su altura 10. Este resultado es 50\n",
    "print(rectangle_area(8, 2))\n",
    "#Este ejercicio devuelve el area de un rectangulo cuyo ancho es 8 y su altura 2. Este resultado es 16"
   ]
  },
  {
   "cell_type": "markdown",
   "metadata": {},
   "source": [
    "#[EXERCISE 5]"
   ]
  },
  {
   "cell_type": "code",
   "execution_count": 3,
   "metadata": {},
   "outputs": [],
   "source": [
    "def f(x):\n",
    "    return x*x\n",
    "\n",
    "def central_difference(f, x, h):\n",
    "    return (f(x+h) - f(x))/h"
   ]
  },
  {
   "cell_type": "code",
   "execution_count": 10,
   "metadata": {},
   "outputs": [
    {
     "name": "stdout",
     "output_type": "stream",
     "text": [
      "4.100000000000001\n",
      "4.009999999999891\n",
      "4.000999999999699\n"
     ]
    }
   ],
   "source": [
    "print(central_difference(f, 2, 0.1))\n",
    "#La derivada de f(x) = x al cuadrado, x = 2 y h = 0.1 es 4.1\n",
    "print(central_difference(f, 2, 0.01))\n",
    "#La derivada de f(x) = x al cuadrado, x = 2 y h = 0.01 es 4.01\n",
    "print(central_difference(f, 2, 0.001))\n",
    "#La derivada de f(x) = x al cuadrado, x = 2 y h = 0.001 es 4.001"
   ]
  }
 ],
 "metadata": {
  "kernelspec": {
   "display_name": "Python 3 (ipykernel)",
   "language": "python",
   "name": "python3"
  },
  "language_info": {
   "codemirror_mode": {
    "name": "ipython",
    "version": 3
   },
   "file_extension": ".py",
   "mimetype": "text/x-python",
   "name": "python",
   "nbconvert_exporter": "python",
   "pygments_lexer": "ipython3",
   "version": "3.11.2"
  }
 },
 "nbformat": 4,
 "nbformat_minor": 1
}
