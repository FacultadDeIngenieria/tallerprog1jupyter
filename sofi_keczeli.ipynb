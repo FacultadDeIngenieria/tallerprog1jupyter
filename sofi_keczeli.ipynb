{
 "cells": [
  {
   "cell_type": "markdown",
   "metadata": {},
   "source": [
    "# Assignment\n",
    "\n",
    "The assignment will require you to complete cells, create new ones, and move around some cells. You need to familiarize yourself with the Jupyter notebook interface. You can find a tutorial [here](https://www.dataquest.io/blog/jupyter-notebook-tutorial/).\n"
   ]
  },
  {
   "cell_type": "markdown",
   "metadata": {},
   "source": [
    "---"
   ]
  },
  {
   "attachments": {},
   "cell_type": "markdown",
   "metadata": {},
   "source": [
    "# [EXERCISE 1]\n",
    "## Sofía Keczeli - smkeczeli@mail.austral.edu.ar\n",
    "![Foto de Bob Esponja](https://media.revistagq.com/photos/5ca5f6a77a3aec0df5496c59/master/w_1600%2Cc_limit/bob_esponja_9564.png)\n",
    "Foto de Bob Esponja sonriendo."
   ]
  },
  {
   "cell_type": "markdown",
   "metadata": {},
   "source": [
    "# [EXERCISE 2]"
   ]
  },
  {
   "cell_type": "code",
   "execution_count": 11,
   "metadata": {},
   "outputs": [],
   "source": [
    "#Esta función recibe la base y altura de un rectángulo y devuelve su área.\n",
    "\n",
    "def rectangle_area(width, height):\n",
    "    return f\"The area of a rectangle with width {width} and height {height} is {width*height}.\""
   ]
  },
  {
   "cell_type": "markdown",
   "metadata": {},
   "source": [
    "# [EXERCISE 3]"
   ]
  },
  {
   "cell_type": "code",
   "execution_count": 12,
   "metadata": {},
   "outputs": [
    {
     "name": "stdout",
     "output_type": "stream",
     "text": [
      "The area of a rectangle with width 3 and height 4 is 12.\n",
      "The area of a rectangle with width 5 and height 10 is 50.\n",
      "The area of a rectangle with width 8 and height 2 is 16.\n"
     ]
    }
   ],
   "source": [
    "#Este ejercicio imprime los resultados de las áreas de 3 rectángulos distintos (12, 50 y 16).\n",
    "print(rectangle_area(3, 4))\n",
    "print(rectangle_area(5, 10))\n",
    "print(rectangle_area(8, 2))"
   ]
  },
  {
   "cell_type": "markdown",
   "metadata": {},
   "source": [
    "# [EXERCISE 5]"
   ]
  },
  {
   "cell_type": "code",
   "execution_count": 13,
   "metadata": {},
   "outputs": [],
   "source": [
    "#Toma la función dada, la x y el \"step size\" y los reemplaza en la fórmula de aproximación de la derivada.\n",
    "def central_difference(f, x, h):\n",
    "    f_plus_h = f(x + h)\n",
    "\n",
    "    derivative_approximation = (f_plus_h - f(x)) / (h)\n",
    "\n",
    "    return derivative_approximation\n"
   ]
  },
  {
   "cell_type": "code",
   "execution_count": 14,
   "metadata": {},
   "outputs": [
    {
     "name": "stdout",
     "output_type": "stream",
     "text": [
      "The derivative of f(x) = x^2 at x = 2 using h = 0.1 is 4.100000000000001.\n",
      "The derivative of f(x) = x^2 at x = 2 using h = 0.01 is 4.009999999999891.\n",
      "The derivative of f(x) = x^2 at x = 2 using h = 0.001 is 4.000999999999699.\n"
     ]
    }
   ],
   "source": [
    "#Defino la función a aproximar.\n",
    "def f(x):\n",
    "    return x**2  # Function f(x) = x^2\n",
    "\n",
    "x = 2\n",
    "\n",
    "# Aproximo la derivada con los distintos \"step sizes\".\n",
    "h_values = [0.1, 0.01, 0.001]\n",
    "\n",
    "for h in h_values:\n",
    "    approximation = central_difference(f, x, h)\n",
    "    print(f\"The derivative of f(x) = x^2 at x = {x} using h = {h} is {approximation}.\")"
   ]
  }
 ],
 "metadata": {
  "kernelspec": {
   "display_name": "Python 3 (ipykernel)",
   "language": "python",
   "name": "python3"
  },
  "language_info": {
   "codemirror_mode": {
    "name": "ipython",
    "version": 3
   },
   "file_extension": ".py",
   "mimetype": "text/x-python",
   "name": "python",
   "nbconvert_exporter": "python",
   "pygments_lexer": "ipython3",
   "version": "3.11.3"
  }
 },
 "nbformat": 4,
 "nbformat_minor": 1
}
