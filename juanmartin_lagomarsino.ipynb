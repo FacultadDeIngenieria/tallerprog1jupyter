{
 "cells": [
  {
   "cell_type": "markdown",
   "metadata": {},
   "source": [
    "<h1>EXERCISE 1<h1>\n",
    "<h2>Juan Martin Lagomarsino<h2>\n",
    "<h5>Email:<h5> \n",
    "<p>jmlagomarsino@mail.austral.edu.ar<p>"
   ]
  },
  {
   "cell_type": "markdown",
   "metadata": {},
   "source": [
    "---"
   ]
  },
  {
   "cell_type": "markdown",
   "metadata": {},
   "source": [
    "![Cancha de San Lorenzo](https://www.ole.com.ar/images/2022/09/10/HueRO7G16_1200x630__1.jpg)\n",
    "<p>Un lugar en el mundo<p>"
   ]
  },
  {
   "cell_type": "markdown",
   "metadata": {},
   "source": [
    "<h1>EXERCISE 2<h1>"
   ]
  },
  {
   "cell_type": "code",
   "execution_count": 34,
   "metadata": {},
   "outputs": [],
   "source": [
    "def rectangle_area (width, height):\n",
    "    return(f\"The area of the rectangle with width {width} and height {height} is\", width * height)"
   ]
  },
  {
   "cell_type": "markdown",
   "metadata": {},
   "source": [
    "<h5>#\n",
    "CREATE A NEW CELL BELOW THIS ONE AND ADD A MARKDOWN TITLE (HEADING 1) WITH THE TEXT \"[EXERCISE 2]\"\n",
    "\n",
    "Create a new cell below the one with a markdown title of \"[EXERCISE 2]\" to solve the following exercise in python, it needs to be a CODE cell:\n",
    "\n",
    "Write a function rectangle_area(width, height) that takes the width and height of a rectangle as input and returns its area.<h5>\n",
    "\n"
   ]
  },
  {
   "cell_type": "markdown",
   "metadata": {},
   "source": [
    "<h1>EXERCISE 3<h1>\n",
    "\n"
   ]
  },
  {
   "cell_type": "code",
   "execution_count": 35,
   "metadata": {},
   "outputs": [
    {
     "name": "stdout",
     "output_type": "stream",
     "text": [
      "('The area of the rectangle with width 3 and height 4 is', 12)\n"
     ]
    }
   ],
   "source": [
    "print(rectangle_area(3,4))"
   ]
  },
  {
   "cell_type": "code",
   "execution_count": 36,
   "metadata": {},
   "outputs": [
    {
     "name": "stdout",
     "output_type": "stream",
     "text": [
      "('The area of the rectangle with width 5 and height 10 is', 50)\n"
     ]
    }
   ],
   "source": [
    "print(rectangle_area(5,10))"
   ]
  },
  {
   "cell_type": "code",
   "execution_count": 37,
   "metadata": {},
   "outputs": [
    {
     "name": "stdout",
     "output_type": "stream",
     "text": [
      "('The area of the rectangle with width 8 and height 2 is', 16)\n"
     ]
    }
   ],
   "source": [
    "print(rectangle_area(8,2))"
   ]
  },
  {
   "cell_type": "markdown",
   "metadata": {},
   "source": [
    "<h5># CREATE A NEW CELL BELOW THIS ONE AND ADD A MARKDOWN TITLE (HEADING 1) WITH THE TEXT \"[EXERCISE 3]\"\n",
    "\n",
    "Use your created function to calculate the area of a rectangle with width 3 and height 4. Another of width 5 and height 10, and another of width 8 and height 2. Show your results in the same cell with a description of each result. Similar to this example:\n",
    "\n",
    " `The area of a rectangle with width 3 and height 4 is 12.´<h5>"
   ]
  },
  {
   "cell_type": "markdown",
   "metadata": {},
   "source": [
    "<h1>EXERCISE 5<h1>\n",
    "\n"
   ]
  },
  {
   "cell_type": "code",
   "execution_count": 38,
   "metadata": {},
   "outputs": [],
   "source": [
    "def central_difference(f, x, h):\n",
    "    derivative = (f(x + h) - f(x - h)) / (2 * h)\n",
    "    return derivative"
   ]
  },
  {
   "cell_type": "code",
   "execution_count": 39,
   "metadata": {},
   "outputs": [
    {
     "name": "stdout",
     "output_type": "stream",
     "text": [
      "The derivate of f(x) = x^2 at x = 2 using h = 0.001 is 3.9999999999995595\n"
     ]
    }
   ],
   "source": [
    "def my_function(x):\n",
    "    return x**2\n",
    "\n",
    "derivative_approximation1 = central_difference(my_function, 2, 0.001)\n",
    "\n",
    "print(f\"The derivate of f(x) = x^2 at x = 2 using h = 0.001 is\", derivative_approximation1)"
   ]
  },
  {
   "cell_type": "code",
   "execution_count": 40,
   "metadata": {},
   "outputs": [
    {
     "name": "stdout",
     "output_type": "stream",
     "text": [
      "The derivate of f(x) = x^2 at x = 2 using h = 0.01 is 3.999999999999937\n"
     ]
    }
   ],
   "source": [
    "def my_function(x):\n",
    "    return x**2\n",
    "\n",
    "derivative_approximation2 = central_difference(my_function, 2, 0.01)\n",
    "\n",
    "print(f\"The derivate of f(x) = x^2 at x = 2 using h = 0.01 is\", derivative_approximation2)"
   ]
  },
  {
   "cell_type": "code",
   "execution_count": 41,
   "metadata": {
    "scrolled": true
   },
   "outputs": [
    {
     "name": "stdout",
     "output_type": "stream",
     "text": [
      "The derivative of f(x) = x^2 at x = 2 using h = 0.1 is 4.000000000000001\n"
     ]
    }
   ],
   "source": [
    "def my_function(x):\n",
    "    return x**2\n",
    "\n",
    "derivative_approximation3 = central_difference(my_function, 2, 0.1)\n",
    "\n",
    "print(f\"The derivative of f(x) = x^2 at x = 2 using h = 0.1 is\", derivative_approximation3)  "
   ]
  }
 ],
 "metadata": {
  "kernelspec": {
   "display_name": "Python 3 (ipykernel)",
   "language": "python",
   "name": "python3"
  },
  "language_info": {
   "codemirror_mode": {
    "name": "ipython",
    "version": 3
   },
   "file_extension": ".py",
   "mimetype": "text/x-python",
   "name": "python",
   "nbconvert_exporter": "python",
   "pygments_lexer": "ipython3",
   "version": "3.11.2"
  }
 },
 "nbformat": 4,
 "nbformat_minor": 1
}
