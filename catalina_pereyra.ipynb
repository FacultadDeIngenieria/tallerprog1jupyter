{
 "cells": [
  {
   "cell_type": "markdown",
   "metadata": {},
   "source": [
    "# Assignment\n",
    "\n",
    "The assignment will require you to complete cells, create new ones, and move around some cells. You need to familiarize yourself with the Jupyter notebook interface. You can find a tutorial [here](https://www.dataquest.io/blog/jupyter-notebook-tutorial/).\n",
    "\n",
    "\n",
    "**MAKE SURE TO MAKE A COPY OF THIS ASSIGNMENT IN YOUR OWN REPOSITORY.** (delete this line in your new copy :) )\n"
   ]
  },
  {
   "cell_type": "markdown",
   "metadata": {},
   "source": [
    "---"
   ]
  },
  {
   "cell_type": "markdown",
   "metadata": {},
   "source": [
    "\n",
    "\n",
    "# [Exercise 1]\n",
    "\n",
    "## Catalina Pereyra <cpereyra@mail.austral.edu.ar>\n",
    "\n",
    "![Punta cana is beautifull](https://topmanagement.com.mx/wp-content/uploads/2018/09/Cancun1-620x350.jpg \"viaje\")\n",
    "\n",
    "Punta cana is a really beautiful region to travel to! The beaches are amaizing!!!\n",
    "\n",
    "\n",
    "\n"
   ]
  },
  {
   "cell_type": "markdown",
   "metadata": {},
   "source": [
    "# [Exercise 2]"
   ]
  },
  {
   "cell_type": "code",
   "execution_count": 3,
   "metadata": {},
   "outputs": [],
   "source": [
    "def rectangle_area(width, height):\n",
    "    area = width*height\n",
    "    return area\n",
    "# Write a function rectangle_area(width, height) that takes the width and height of a rectangle as input and returns its area.\n"
   ]
  },
  {
   "cell_type": "markdown",
   "metadata": {},
   "source": [
    "# [Exercise 3]"
   ]
  },
  {
   "cell_type": "code",
   "execution_count": 9,
   "metadata": {},
   "outputs": [
    {
     "name": "stdout",
     "output_type": "stream",
     "text": [
      "The area of the rectangle with width 3 and height 4 is 12\n",
      "The area of the rectangle with width 10 and height 5 is 50\n",
      "The area of the rectangle with width 8 and height 2 is 16\n"
     ]
    }
   ],
   "source": [
    "print (f\"The area of the rectangle with width 3 and height 4 is {rectangle_area(3,4)}\")\n",
    "\n",
    "print (f\"The area of the rectangle with width 10 and height 5 is {rectangle_area(10,5)}\")\n",
    "\n",
    "print (f\"The area of the rectangle with width 8 and height 2 is {rectangle_area(8,2)}\")\n",
    "\n",
    "#Use your created function to calculate the area of a rectangle with width 3 and height 4. Another of width 5 and height 10, and another of width 8 and height 2. Show your results in the same cell with a description of each result. \n"
   ]
  },
  {
   "cell_type": "markdown",
   "metadata": {},
   "source": [
    "# [Exercise 5]"
   ]
  },
  {
   "cell_type": "code",
   "execution_count": 15,
   "metadata": {},
   "outputs": [],
   "source": [
    "def central_difference(f, x, h):\n",
    "    return (f(x+h)-f(x))/h"
   ]
  },
  {
   "cell_type": "code",
   "execution_count": 16,
   "metadata": {},
   "outputs": [
    {
     "name": "stdout",
     "output_type": "stream",
     "text": [
      "The derivate of f(x) = x^2 at x 2 using h = 0.1 is 4.100000000000001\n",
      "The derivate of f(x) = x^2 at x 2 using h = 0.01 is 4.009999999999891\n",
      "The derivate of f(x) = x^2 at x 2 using h = 0.001 is 4.000999999999699\n"
     ]
    }
   ],
   "source": [
    "def squere(x): return x ** 2\n",
    "\n",
    "f = squere\n",
    "x = 2\n",
    "\n",
    "h_1 = 0.1\n",
    "print(f\"The derivate of f(x) = x^2 at x {x} using h = {h_1} is {central_difference(squere, x, h_1)}\")\n",
    "\n",
    "h_2 = 0.01\n",
    "print(f\"The derivate of f(x) = x^2 at x {x} using h = {h_2} is {central_difference(squere, x, h_2)}\")\n",
    "\n",
    "h_3 = 0.001\n",
    "print(f\"The derivate of f(x) = x^2 at x {x} using h = {h_3} is {central_difference(squere, x, h_3)}\")\n"
   ]
  }
 ],
 "metadata": {
  "kernelspec": {
   "display_name": "Python 3 (ipykernel)",
   "language": "python",
   "name": "python3"
  },
  "language_info": {
   "codemirror_mode": {
    "name": "ipython",
    "version": 3
   },
   "file_extension": ".py",
   "mimetype": "text/x-python",
   "name": "python",
   "nbconvert_exporter": "python",
   "pygments_lexer": "ipython3",
   "version": "3.11.3"
  }
 },
 "nbformat": 4,
 "nbformat_minor": 1
}
