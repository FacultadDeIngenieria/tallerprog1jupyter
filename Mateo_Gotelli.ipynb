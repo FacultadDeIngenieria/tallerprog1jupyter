{
 "cells": [
  {
   "cell_type": "markdown",
   "id": "9869beb1",
   "metadata": {},
   "source": [
    "<h1> Excercise 1 </h1>\n",
    "<h6>Mateo Gotelli </h6>\n",
    "<h6>mail: mgotelli@mail.austral.edu.ar</h6>\n",
    "\n",
    "[![An old rock in the desert](/assets/images/shiprock.jpg \"Shiprock, New Mexico by Beau Rogers\")](https://www.flickr.com/photos/beaurogers/31833779864/in/photolist-Qv3rFw-34mt9F-a9Cmfy-5Ha3Zi-9msKdv-o3hgjr-hWpUte-4WMsJ1-KUQ8N-deshUb-vssBD-6CQci6-8AFCiD-zsJWT-nNfsgB-dPDwZJ-bn9JGn-5HtSXY-6CUhAL-a4UTXB-ugPum-KUPSo-fBLNm-6CUmpy-4WMsc9-8a7D3T-83KJev-6CQ2bK-nNusHJ-a78rQH-nw3NvT-7aq2qf-8wwBso-3nNceh-ugSKP-4mh4kh-bbeeqH-a7biME-q3PtTf-brFpgb-cg38zw-bXMZc-nJPELD-f58Lmo-bXMYG-bz8AAi-bxNtNT-bXMYi-bXMY6-bXMYv)"
   ]
  },
  {
   "cell_type": "code",
   "execution_count": null,
   "id": "ad19eaa9",
   "metadata": {},
   "outputs": [],
   "source": [
    "    \n"
   ]
  },
  {
   "cell_type": "code",
   "execution_count": null,
   "id": "6ff6afa7",
   "metadata": {},
   "outputs": [],
   "source": [
    "<h1>Excercise 5</h1>\n"
   ]
  },
  {
   "cell_type": "code",
   "execution_count": null,
   "id": "634175a9",
   "metadata": {},
   "outputs": [],
   "source": [
    "def central_difference(f, x, h):\n",
    "\n",
    "    return (f(x + h) - f(x - h)) / (2 * h)\n",
    "\n"
   ]
  },
  {
   "cell_type": "code",
   "execution_count": null,
   "id": "775bfdb6",
   "metadata": {},
   "outputs": [],
   "source": [
    "# Define the function f(x) = x^2\n",
    "def f(x):\n",
    "    return x ** 2\n",
    "\n",
    "# Approximate the derivative at x = 2 using different step sizes\n",
    "x = 2\n",
    "\n",
    "h = 0.1\n",
    "approximation_h_0_1 = central_difference(f, x, h)\n",
    "print(\"The derivative of f(x) = x^2 at x = 2 using h = 0.1 is\", approximation_h_0_1)\n",
    "\n",
    "h = 0.01\n",
    "approximation_h_0_01 = central_difference(f, x, h)\n",
    "print(\"The derivative of f(x) = x^2 at x = 2 using h = 0.01 is\", approximation_h_0_01)\n",
    "\n",
    "h = 0.001\n",
    "approximation_h_0_001 = central_difference(f, x, h)\n",
    "print(\"The derivative of f(x) = x^2 at x = 2 using h = 0.001 is\", approximation_h_0_001)\n"
   ]
  },
  {
   "cell_type": "markdown",
   "id": "ed7ad109",
   "metadata": {},
   "source": [
    "<h1>Excercise 2</h1>"
   ]
  },
  {
   "cell_type": "markdown",
   "id": "8ffcbb2c",
   "metadata": {},
   "source": [
    "def rectangle_area(width, height):\n",
    "    area = width * height\n",
    "    return area\n",
    "width = 5\n",
    "height = 3\n",
    "result = rectangle_area(width, height)\n",
    "print(result)  # Output: 15"
   ]
  },
  {
   "cell_type": "code",
   "execution_count": null,
   "id": "e6f24acd",
   "metadata": {},
   "outputs": [],
   "source": [
    "Write a function rectangle_area(width, height) that takes the width and height of a rectangle as input and returns its area."
   ]
  },
  {
   "cell_type": "markdown",
   "id": "ba881496",
   "metadata": {},
   "source": [
    "<h1>Excercise 3</h1>"
   ]
  },
  {
   "cell_type": "code",
   "execution_count": null,
   "id": "ce874d43",
   "metadata": {},
   "outputs": [],
   "source": [
    "# Calculate the area of a rectangle with width 3 and height 4\n",
    "width1 = 3\n",
    "height1 = 4\n",
    "area1 = rectangle_area(width1, height1)\n",
    "print(f\"The area of a rectangle with width {width1} and height {height1} is {area1}.\")\n",
    "\n",
    "# Calculate the area of a rectangle with width 5 and height 10\n",
    "width2 = 5\n",
    "height2 = 10\n",
    "area2 = rectangle_area(width2, height2)\n",
    "print(f\"The area of a rectangle with width {width2} and height {height2} is {area2}.\")\n",
    "\n",
    "# Calculate the area of a rectangle with width 8 and height 2\n",
    "width3 = 8\n",
    "height3 = 2\n",
    "area3 = rectangle_area(width3, height3)\n",
    "print(f\"The area of a rectangle with width {width3} and height {height3} is {area3}.\")\n"
   ]
  },
  {
   "cell_type": "code",
   "execution_count": null,
   "id": "424a44c5",
   "metadata": {},
   "outputs": [],
   "source": [
    "Use your created function to calculate the area of a rectangle with width 3 and height 4. Another of width 5 and height 10, and another of width 8 and height 2. Show your results in the same cell with a description of each result.\n",
    "The area of a rectangle with width 3 and height 4 is 12.\n",
    "The area of a rectangle with width 5 and height 10 is 50.\n",
    "The area of a rectangle with width 8 and height 2 is 16.\n"
   ]
  },
  {
   "cell_type": "code",
   "execution_count": null,
   "id": "fdebf895",
   "metadata": {},
   "outputs": [],
   "source": []
  },
  {
   "cell_type": "code",
   "execution_count": null,
   "id": "24ee6eee",
   "metadata": {},
   "outputs": [],
   "source": []
  }
 ],
 "metadata": {
  "kernelspec": {
   "display_name": "Python 3 (ipykernel)",
   "language": "python",
   "name": "python3"
  },
  "language_info": {
   "codemirror_mode": {
    "name": "ipython",
    "version": 3
   },
   "file_extension": ".py",
   "mimetype": "text/x-python",
   "name": "python",
   "nbconvert_exporter": "python",
   "pygments_lexer": "ipython3",
   "version": "3.11.3"
  }
 },
 "nbformat": 4,
 "nbformat_minor": 5
}
