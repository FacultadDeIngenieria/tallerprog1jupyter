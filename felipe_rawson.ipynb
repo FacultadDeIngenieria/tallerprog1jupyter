{
 "cells": [
  {
   "cell_type": "markdown",
   "metadata": {},
   "source": [
    "# Assignment\n",
    "\n",
    "The assignment will require you to complete cells, create new ones, and move around some cells. You need to familiarize yourself with the Jupyter notebook interface. You can find a tutorial [here](https://www.dataquest.io/blog/jupyter-notebook-tutorial/).\n",
    "\n",
    "\n",
    "**MAKE SURE TO MAKE A COPY OF THIS ASSIGNMENT IN YOUR OWN REPOSITORY.** (delete this line in your new copy :) )\n"
   ]
  },
  {
   "cell_type": "markdown",
   "metadata": {},
   "source": []
  },
  {
   "cell_type": "markdown",
   "metadata": {},
   "source": [
    "# [EXERCISE 1]\n",
    "# Exercise 1\n",
    "## Felipe Rawson frawson@mail.austral.edu.ar\n",
    "<img src=\"https://www.elgrafico.com.ar/media/cache/pub_news_details_large/media/i/20/8a/208aba73b4a18cd75a671653a2b95c1ecac79bbc.jfif\" width=\"300\" height=\"300\">\n"
   ]
  },
  {
   "cell_type": "markdown",
   "metadata": {},
   "source": [
    "# [EXERCISE 2]"
   ]
  },
  {
   "cell_type": "code",
   "execution_count": 6,
   "metadata": {},
   "outputs": [],
   "source": [
    "\"\"\"\n",
    "1. CREATE A NEW CELL BELOW THIS ONE AND ADD A MARKDOWN TITLE (HEADING 1) WITH THE TEXT \"[EXERCISE 2]\"\n",
    "\n",
    "2. Create a new cell below the one with a markdown title of \"[EXERCISE 2]\" to solve the following exercise in python, it needs to be a CODE cell:\n",
    "\n",
    "    Write a function rectangle_area(width, height) that takes the width and height of a rectangle as input and returns its area.\n",
    "\n",
    "3. Add the instructions of the exercise as a comment in the code cell above the function definition.\n",
    "4. DO NOT KEEP THE CELL WITH THESE INSTRUCTIONS.\n",
    "\"\"\"\n",
    "def rectangle_area(width, height):\n",
    "    area = width*height\n",
    "    return area"
   ]
  },
  {
   "cell_type": "markdown",
   "metadata": {},
   "source": [
    "# [EXERCISE 3]\n",
    "\n",
    "\"\"\"\n",
    "1. CREATE A NEW CELL BELOW THIS ONE AND ADD A MARKDOWN TITLE (HEADING 1) WITH THE TEXT \"[EXERCISE 3]\"\n",
    "2. Use your created function to calculate the area of a rectangle with width 3 and height 4. Another of width 5 and height 10, and another of width 8 and height 2. Show your results in the same cell with a description of each result. Similar to this example:\n",
    "        `The area of a rectangle with width 3 and height 4 is 12.`\n",
    "3. Add the instructions of the exercise as a comment in the code cell with the solution.\n",
    "4. DO NOT KEEP THE CELL WITH THESE INSTRUCTIONS.\n",
    "\"\"\"\n",
    "\n",
    "\"the area of a rectangle with width 3 and height 4 is 12\"-\n",
    "\"the area of a rectangle with width 5 and height 10 is 50\"-\n",
    "\"the area of a rectangle with width 3 and height 4 is 16\""
   ]
  },
  {
   "cell_type": "markdown",
   "metadata": {},
   "source": [
    "# [EXERCISE 5]"
   ]
  },
  {
   "cell_type": "code",
   "execution_count": 7,
   "metadata": {},
   "outputs": [],
   "source": [
    "def central_difference(f, x, h):\n",
    "    y = ((x+h/2)**2 - (x-h/2)**2)/h\n",
    "    return f\"The derivate of f(x)= x^2 at x = {x} using h = {h} is {y}\""
   ]
  },
  {
   "cell_type": "code",
   "execution_count": 8,
   "metadata": {},
   "outputs": [
    {
     "name": "stdout",
     "output_type": "stream",
     "text": [
      "The derivate of f(x)= x^2 at x = 2 using h = 0.1 is 3.999999999999999\n",
      "The derivate of f(x)= x^2 at x = 2 using h = 0.01 is 3.9999999999999147\n",
      "The derivate of f(x)= x^2 at x = 2 using h = 0.001 is 4.000000000000892\n"
     ]
    }
   ],
   "source": [
    "print(central_difference(\"x**2\", 2, 0.1))\n",
    "#The derivate of f(x)= x^2 at x = 2 using h = 0.1 is 3.999999999999999\n",
    "print(central_difference(\"x**2\", 2, 0.01))\n",
    "#The derivate of f(x)= x^2 at x = 2 using h = 0.01 is 3.9999999999999147\n",
    "print(central_difference(\"x**2\", 2, 0.001))\n",
    "#The derivate of f(x)= x^2 at x = 2 using h = 0.001 is 4.000000000000892"
   ]
  },
  {
   "cell_type": "code",
   "execution_count": null,
   "metadata": {},
   "outputs": [],
   "source": []
  }
 ],
 "metadata": {
  "kernelspec": {
   "display_name": "Python 3 (ipykernel)",
   "language": "python",
   "name": "python3"
  },
  "language_info": {
   "codemirror_mode": {
    "name": "ipython",
    "version": 3
   },
   "file_extension": ".py",
   "mimetype": "text/x-python",
   "name": "python",
   "nbconvert_exporter": "python",
   "pygments_lexer": "ipython3",
   "version": "3.11.2"
  }
 },
 "nbformat": 4,
 "nbformat_minor": 1
}
